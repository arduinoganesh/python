{
 "cells": [
  {
   "cell_type": "markdown",
   "metadata": {},
   "source": [
    "# Set Data Type"
   ]
  },
  {
   "cell_type": "markdown",
   "metadata": {},
   "source": [
    "Sets are like lists, with an exception that they do not contain duplicate entries.\n",
    "Set is a unordered collection. Hence order of insertion is not same as the order of access.\n"
   ]
  },
  {
   "cell_type": "code",
   "execution_count": 55,
   "metadata": {
    "collapsed": true
   },
   "outputs": [
    {
     "name": "stdout",
     "output_type": "stream",
     "text": [
      "set()\n",
      "{20}\n",
      "{'John', 20, 45.67}\n",
      "{10}\n"
     ]
    }
   ],
   "source": [
    "a = set()    # create a empty set\n",
    "b = {20}     # set with one item\n",
    "c = {'John',20,45.67}  # set with multiple items\n",
    "d = {10,10,10,10}    # Only one 10 gets stored\n",
    "\n",
    "print(a)\n",
    "print(b)\n",
    "print(c)\n",
    "print(d)"
   ]
  },
  {
   "cell_type": "code",
   "execution_count": 56,
   "metadata": {
    "collapsed": true
   },
   "outputs": [
    {
     "name": "stdout",
     "output_type": "stream",
     "text": [
      "{40, 10, 20, 30}\n"
     ]
    }
   ],
   "source": [
    "# as set is a unordered collection. Order of insertion is not same as the order of access\n",
    "d = {10,20,30,40}\n",
    "print(d)"
   ]
  },
  {
   "cell_type": "code",
   "execution_count": 57,
   "metadata": {
    "collapsed": true
   },
   "outputs": [
    {
     "name": "stdout",
     "output_type": "stream",
     "text": [
      "{40, 10, 50, 20, 30}\n",
      "{'John', 20, 45.67}\n",
      "{'o', 't', 'y', 'n', 'h', 'P'}\n"
     ]
    }
   ],
   "source": [
    "# set function can be used to convert a string, list or tuple into a set.\n",
    "list1 = [10,20,30,40,50]\n",
    "tpl = ('John',20,45.67)\n",
    "str1 = 'Python'\n",
    "s1 = set(list1)\n",
    "s2 = set(tpl)\n",
    "s3 = set(str1)\n",
    "print(s1)\n",
    "print(s2)\n",
    "print(s3)"
   ]
  },
  {
   "cell_type": "code",
   "execution_count": 58,
   "metadata": {
    "collapsed": true
   },
   "outputs": [
    {
     "name": "stdout",
     "output_type": "stream",
     "text": [
      "<class 'set'>\n"
     ]
    }
   ],
   "source": [
    "# type of set\n",
    "print(type(s1))"
   ]
  },
  {
   "cell_type": "code",
   "execution_count": 59,
   "metadata": {
    "collapsed": true
   },
   "outputs": [
    {
     "name": "stdout",
     "output_type": "stream",
     "text": [
      "{'fate', 'rate', 'gate', 'late'}\n"
     ]
    }
   ],
   "source": [
    "# sets like lists are mutable. Their content can be changed\n",
    "s = {'gate','fate','late'}\n",
    "s.add('rate')\n",
    "print(s)"
   ]
  },
  {
   "cell_type": "code",
   "execution_count": 60,
   "metadata": {
    "collapsed": true
   },
   "outputs": [
    {
     "ename": "AttributeError",
     "evalue": "'frozenset' object has no attribute 'add'",
     "output_type": "error",
     "traceback": [
      "\u001b[0;31m---------------------------------------------------------------------------\u001b[0m",
      "\u001b[0;31mAttributeError\u001b[0m                            Traceback (most recent call last)",
      "\u001b[0;32m<ipython-input-60-54ed70b71ab7>\u001b[0m in \u001b[0;36m<module>\u001b[0;34m\u001b[0m\n\u001b[1;32m      1\u001b[0m \u001b[0;31m# But if we want a immutable set, then we should use a frozenset.\u001b[0m\u001b[0;34m\u001b[0m\u001b[0;34m\u001b[0m\u001b[0;34m\u001b[0m\u001b[0m\n\u001b[1;32m      2\u001b[0m \u001b[0ms\u001b[0m \u001b[0;34m=\u001b[0m \u001b[0mfrozenset\u001b[0m\u001b[0;34m(\u001b[0m\u001b[0;34m{\u001b[0m\u001b[0;34m'gate'\u001b[0m\u001b[0;34m,\u001b[0m\u001b[0;34m'fate'\u001b[0m\u001b[0;34m,\u001b[0m\u001b[0;34m'late'\u001b[0m\u001b[0;34m}\u001b[0m\u001b[0;34m)\u001b[0m\u001b[0;34m\u001b[0m\u001b[0;34m\u001b[0m\u001b[0m\n\u001b[0;32m----> 3\u001b[0;31m \u001b[0ms\u001b[0m\u001b[0;34m.\u001b[0m\u001b[0madd\u001b[0m\u001b[0;34m(\u001b[0m\u001b[0;34m'rate'\u001b[0m\u001b[0;34m)\u001b[0m   \u001b[0;31m# ERROR\u001b[0m\u001b[0;34m\u001b[0m\u001b[0;34m\u001b[0m\u001b[0m\n\u001b[0m",
      "\u001b[0;31mAttributeError\u001b[0m: 'frozenset' object has no attribute 'add'"
     ]
    }
   ],
   "source": [
    "# But if we want a immutable set, then we should use a frozenset.\n",
    "s = frozenset({'gate','fate','late'})\n",
    "s.add('rate')   # ERROR\n"
   ]
  },
  {
   "cell_type": "code",
   "execution_count": 61,
   "metadata": {
    "collapsed": true
   },
   "outputs": [
    {
     "ename": "TypeError",
     "evalue": "unhashable type: 'set'",
     "output_type": "error",
     "traceback": [
      "\u001b[0;31m---------------------------------------------------------------------------\u001b[0m",
      "\u001b[0;31mTypeError\u001b[0m                                 Traceback (most recent call last)",
      "\u001b[0;32m<ipython-input-61-040ad2cd2f37>\u001b[0m in \u001b[0;36m<module>\u001b[0;34m\u001b[0m\n\u001b[1;32m      1\u001b[0m \u001b[0;31m# a set cannot contain a set embedded in it\u001b[0m\u001b[0;34m\u001b[0m\u001b[0;34m\u001b[0m\u001b[0;34m\u001b[0m\u001b[0m\n\u001b[0;32m----> 2\u001b[0;31m \u001b[0ms\u001b[0m \u001b[0;34m=\u001b[0m \u001b[0;34m{\u001b[0m\u001b[0;34m'gate'\u001b[0m\u001b[0;34m,\u001b[0m\u001b[0;34m'fate'\u001b[0m\u001b[0;34m,\u001b[0m\u001b[0;34m{\u001b[0m\u001b[0;36m10\u001b[0m\u001b[0;34m,\u001b[0m\u001b[0;36m20\u001b[0m\u001b[0;34m,\u001b[0m\u001b[0;36m30\u001b[0m\u001b[0;34m}\u001b[0m\u001b[0;34m,\u001b[0m\u001b[0;34m'rate'\u001b[0m\u001b[0;34m}\u001b[0m   \u001b[0;31m# error\u001b[0m\u001b[0;34m\u001b[0m\u001b[0;34m\u001b[0m\u001b[0m\n\u001b[0m",
      "\u001b[0;31mTypeError\u001b[0m: unhashable type: 'set'"
     ]
    }
   ],
   "source": [
    "# a set cannot contain a set embedded in it\n",
    "s = {'gate','fate',{10,20,30},'rate'}   # error"
   ]
  },
  {
   "cell_type": "code",
   "execution_count": 62,
   "metadata": {
    "collapsed": true
   },
   "outputs": [
    {
     "ename": "TypeError",
     "evalue": "unsupported operand type(s) for +: 'set' and 'set'",
     "output_type": "error",
     "traceback": [
      "\u001b[0;31m---------------------------------------------------------------------------\u001b[0m",
      "\u001b[0;31mTypeError\u001b[0m                                 Traceback (most recent call last)",
      "\u001b[0;32m<ipython-input-62-f873c505fcbb>\u001b[0m in \u001b[0;36m<module>\u001b[0;34m\u001b[0m\n\u001b[1;32m      2\u001b[0m \u001b[0ms\u001b[0m \u001b[0;34m=\u001b[0m \u001b[0;34m{\u001b[0m\u001b[0;36m10\u001b[0m\u001b[0;34m,\u001b[0m\u001b[0;36m20\u001b[0m\u001b[0;34m,\u001b[0m\u001b[0;36m30\u001b[0m\u001b[0;34m}\u001b[0m\u001b[0;34m\u001b[0m\u001b[0;34m\u001b[0m\u001b[0m\n\u001b[1;32m      3\u001b[0m \u001b[0mt\u001b[0m \u001b[0;34m=\u001b[0m \u001b[0;34m{\u001b[0m\u001b[0;36m40\u001b[0m\u001b[0;34m,\u001b[0m \u001b[0;36m50\u001b[0m\u001b[0;34m}\u001b[0m\u001b[0;34m\u001b[0m\u001b[0;34m\u001b[0m\u001b[0m\n\u001b[0;32m----> 4\u001b[0;31m \u001b[0mz\u001b[0m \u001b[0;34m=\u001b[0m \u001b[0ms\u001b[0m \u001b[0;34m+\u001b[0m \u001b[0mt\u001b[0m   \u001b[0;31m# Error\u001b[0m\u001b[0;34m\u001b[0m\u001b[0;34m\u001b[0m\u001b[0m\n\u001b[0m",
      "\u001b[0;31mTypeError\u001b[0m: unsupported operand type(s) for +: 'set' and 'set'"
     ]
    }
   ],
   "source": [
    "# Two sets cannot be added to create a third set\n",
    "s = {10,20,30}\n",
    "t = {40, 50}\n",
    "z = s + t   # Error"
   ]
  },
  {
   "cell_type": "markdown",
   "metadata": {},
   "source": [
    "### Accessing Set Element"
   ]
  },
  {
   "cell_type": "code",
   "execution_count": 63,
   "metadata": {
    "collapsed": true
   },
   "outputs": [
    {
     "name": "stdout",
     "output_type": "stream",
     "text": [
      "{'fate', 'gate', 'late'}\n"
     ]
    }
   ],
   "source": [
    "# Being an unordered collection, items in a set cannot be accessed using indices.\n",
    "# sets cannot be sliced using []\n",
    "# entire set can be printed by just using the name of the set.\n",
    "s = {'gate','fate','late'}\n",
    "print(s)\n"
   ]
  },
  {
   "cell_type": "code",
   "execution_count": 64,
   "metadata": {
    "collapsed": true
   },
   "outputs": [
    {
     "name": "stdout",
     "output_type": "stream",
     "text": [
      "65\n",
      "34\n",
      "37\n",
      "10\n",
      "21\n",
      "23\n",
      "89\n"
     ]
    }
   ],
   "source": [
    "# Like Strings, list and tuples, set too can be iterated over using a for loop.\n",
    "s = {10,34,37,23,89,65,21}\n",
    "for ele in s:\n",
    "    print(ele)"
   ]
  },
  {
   "cell_type": "markdown",
   "metadata": {},
   "source": [
    "### Set Operations"
   ]
  },
  {
   "cell_type": "code",
   "execution_count": 65,
   "metadata": {
    "collapsed": true
   },
   "outputs": [
    {
     "name": "stdout",
     "output_type": "stream",
     "text": [
      "True\n",
      "True\n",
      "7\n",
      "89\n",
      "10\n",
      "[10, 21, 23, 34, 37, 65, 89]\n",
      "279\n"
     ]
    }
   ],
   "source": [
    "# Built in functions and common set operations are shown below,\n",
    "\n",
    "s = {10,34,37,23,89,65,21}\n",
    "\n",
    "print(21 in s)      # return True since 21 is present in s\n",
    "print(12 not in s)  # return True since 12 is not present in s\n",
    "print(len(s))       # return the number of items in set\n",
    "print(max(s))       # return the maximum element in set s\n",
    "print(min(s))       # return the minimum element in set s\n",
    "print(sorted(s))    # return the sorted list, s remains unchanged\n",
    "print(sum(s))       # return the sum of all elements in set s"
   ]
  },
  {
   "cell_type": "code",
   "execution_count": 66,
   "metadata": {
    "collapsed": true
   },
   "outputs": [
    {
     "name": "stdout",
     "output_type": "stream",
     "text": [
      "1 2 3 4\n"
     ]
    }
   ],
   "source": [
    "# it is possible to unpack a set using the * operator\n",
    "x = {1,2,3,4}\n",
    "print(*x)\n"
   ]
  },
  {
   "cell_type": "markdown",
   "metadata": {},
   "source": [
    "### Set Methods"
   ]
  },
  {
   "cell_type": "code",
   "execution_count": 67,
   "metadata": {
    "collapsed": true
   },
   "outputs": [
    {
     "name": "stdout",
     "output_type": "stream",
     "text": [
      "{65, 34, 'a', 37, 10, 'b', 'c', 21, 23, 89}\n"
     ]
    }
   ],
   "source": [
    "# Following functions can be used on sets:\n",
    "\n",
    "s = {10,34,37,23,89,65,21}\n",
    "t = {'a','b','c'}\n",
    "s.update(t)    # add elements of t in s\n",
    "print(s)"
   ]
  },
  {
   "cell_type": "code",
   "execution_count": 68,
   "metadata": {
    "collapsed": true
   },
   "outputs": [
    {
     "name": "stdout",
     "output_type": "stream",
     "text": [
      "{65, 34, 'Hello', 37, 10, 21, 23, 89}\n"
     ]
    }
   ],
   "source": [
    "s = {10,34,37,23,89,65,21}\n",
    "s.add('Hello')    # add 'Hello' in s\n",
    "print(s)"
   ]
  },
  {
   "cell_type": "code",
   "execution_count": 69,
   "metadata": {
    "collapsed": true
   },
   "outputs": [
    {
     "name": "stdout",
     "output_type": "stream",
     "text": [
      "{65, 37, 10, 21, 23, 89}\n"
     ]
    }
   ],
   "source": [
    "s = {10,34,37,23,89,65,21}\n",
    "s.remove(34)     # deletes 34 from s\n",
    "print(s)"
   ]
  },
  {
   "cell_type": "code",
   "execution_count": 70,
   "metadata": {
    "collapsed": true
   },
   "outputs": [
    {
     "ename": "KeyError",
     "evalue": "100",
     "output_type": "error",
     "traceback": [
      "\u001b[0;31m---------------------------------------------------------------------------\u001b[0m",
      "\u001b[0;31mKeyError\u001b[0m                                  Traceback (most recent call last)",
      "\u001b[0;32m<ipython-input-70-9a6427b77057>\u001b[0m in \u001b[0;36m<module>\u001b[0;34m\u001b[0m\n\u001b[1;32m      1\u001b[0m \u001b[0ms\u001b[0m \u001b[0;34m=\u001b[0m \u001b[0;34m{\u001b[0m\u001b[0;36m10\u001b[0m\u001b[0;34m,\u001b[0m\u001b[0;36m34\u001b[0m\u001b[0;34m,\u001b[0m\u001b[0;36m37\u001b[0m\u001b[0;34m,\u001b[0m\u001b[0;36m23\u001b[0m\u001b[0;34m,\u001b[0m\u001b[0;36m89\u001b[0m\u001b[0;34m,\u001b[0m\u001b[0;36m65\u001b[0m\u001b[0;34m,\u001b[0m\u001b[0;36m21\u001b[0m\u001b[0;34m}\u001b[0m\u001b[0;34m\u001b[0m\u001b[0;34m\u001b[0m\u001b[0m\n\u001b[0;32m----> 2\u001b[0;31m \u001b[0ms\u001b[0m\u001b[0;34m.\u001b[0m\u001b[0mremove\u001b[0m\u001b[0;34m(\u001b[0m\u001b[0;36m100\u001b[0m\u001b[0;34m)\u001b[0m    \u001b[0;31m# generates the error as 100 is not present in s\u001b[0m\u001b[0;34m\u001b[0m\u001b[0;34m\u001b[0m\u001b[0m\n\u001b[0m",
      "\u001b[0;31mKeyError\u001b[0m: 100"
     ]
    }
   ],
   "source": [
    "s = {10,34,37,23,89,65,21}\n",
    "s.remove(100)    # generates the error as 100 is not present in s"
   ]
  },
  {
   "cell_type": "code",
   "execution_count": 71,
   "metadata": {
    "collapsed": true
   },
   "outputs": [
    {
     "name": "stdout",
     "output_type": "stream",
     "text": [
      "{65, 37, 10, 21, 23, 89}\n"
     ]
    }
   ],
   "source": [
    "s = {10,34,37,23,89,65,21}\n",
    "s.discard(34)    # delete 34 from s\n",
    "print(s)"
   ]
  },
  {
   "cell_type": "code",
   "execution_count": 72,
   "metadata": {
    "collapsed": true
   },
   "outputs": [
    {
     "name": "stdout",
     "output_type": "stream",
     "text": [
      "{65, 34, 37, 10, 21, 23, 89}\n"
     ]
    }
   ],
   "source": [
    "s = {10,34,37,23,89,65,21}\n",
    "s.discard(100)    # does not reports the error if 100 not present\n",
    "print(s)"
   ]
  },
  {
   "cell_type": "code",
   "execution_count": 73,
   "metadata": {
    "collapsed": true
   },
   "outputs": [
    {
     "name": "stdout",
     "output_type": "stream",
     "text": [
      "set()\n"
     ]
    }
   ],
   "source": [
    "s = {10,34,37,23,89,65,21}\n",
    "s.clear()    # removes all elements\n",
    "print(s)"
   ]
  },
  {
   "cell_type": "code",
   "execution_count": 74,
   "metadata": {
    "collapsed": true
   },
   "outputs": [
    {
     "name": "stdout",
     "output_type": "stream",
     "text": [
      "65\n",
      "{34, 37, 10, 21, 23, 89}\n"
     ]
    }
   ],
   "source": [
    "s = {10,34,37,23,89,65,21}\n",
    "print(s.pop())   # Pop is used to read and remove the element from set s\n",
    "print(s)"
   ]
  },
  {
   "cell_type": "code",
   "execution_count": 75,
   "metadata": {
    "collapsed": true
   },
   "outputs": [
    {
     "name": "stdout",
     "output_type": "stream",
     "text": [
      "True\n",
      "False\n",
      "True\n",
      "False\n"
     ]
    }
   ],
   "source": [
    "# Following functions can be used on sets to check the relationship between them:\n",
    "\n",
    "s = {10,34,37,23,89,65,21}\n",
    "t = {34,23,21}\n",
    "\n",
    "print(s.issuperset(t))   # print true since all elements of t is present in s\n",
    "print(s.issubset(t))     # print False as t is a subset of s, s is not a subset of t\n",
    "print(t.issubset(s))     # print True as t is a subset of s\n",
    "print(s.isdisjoint(t))   # print False because there are some common elements present between s and t\n",
    "# If intersection of two sets is null, the sets are called disjoint sets."
   ]
  },
  {
   "cell_type": "markdown",
   "metadata": {},
   "source": [
    "### Mathematical Set Operations (IMP)"
   ]
  },
  {
   "cell_type": "code",
   "execution_count": 76,
   "metadata": {
    "collapsed": true
   },
   "outputs": [
    {
     "name": "stdout",
     "output_type": "stream",
     "text": [
      "Set A Contains =  {1, 2, 3, 4}\n",
      "Set B Contains =  {4, 5, 6, 7}\n",
      "Union of A and B =  {1, 2, 3, 4, 5, 6, 7}\n"
     ]
    }
   ],
   "source": [
    "# Set Union\n",
    "# Union of two sets is a set of all elements from both sets. Union is performed using pipe | operator or union function\n",
    "\n",
    "A  = {1,2,3,4}\n",
    "B  = {4,5,6,7}\n",
    "C  = A | B         # C contains {1,2,3,4,5,6,7}\n",
    "#C = A.union(B)\n",
    "print('Set A Contains = ',A)\n",
    "print('Set B Contains = ',B)\n",
    "print('Union of A and B = ',C)\n",
    "\n",
    "# ref: https://www.google.com/search?q=union+set&sxsrf=ALeKk003_98Y_lCI1YAuTdid2MWDLPUCPw:1607515281728&tbm=isch&source=iu&ictx=1&fir=R4s6U1M64dDOMM%252CBEwTaIpZFX2JAM%252C_&vet=1&usg=AI4_-kQ-3hFlzysTgmlFTJD-mEWE_-HAUw&sa=X&ved=2ahUKEwiAmdqK7cDtAhVSwzgGHXV3CCcQ_h16BAgWEAE#imgrc=R4s6U1M64dDOMM\n"
   ]
  },
  {
   "cell_type": "code",
   "execution_count": 77,
   "metadata": {
    "collapsed": true
   },
   "outputs": [
    {
     "name": "stdout",
     "output_type": "stream",
     "text": [
      "Set A Contains =  {1, 2, 3, 4}\n",
      "Set B Contains =  {4, 5, 6, 7}\n",
      "Intersection of A and B =  {4}\n"
     ]
    }
   ],
   "source": [
    "# Set Intersection\n",
    "# Intersection of A and B is a set of elements that are common in both sets. \n",
    "# The intersection is performed using & operator or intersection() function\n",
    "\n",
    "A  = {1,2,3,4}\n",
    "B  = {4,5,6,7}\n",
    "C  = A & B        # C Contains  {4}\n",
    "#C = A.intersection(B)\n",
    "print('Set A Contains = ',A)\n",
    "print('Set B Contains = ',B)\n",
    "print('Intersection of A and B = ',C)\n",
    "\n",
    "# ref: https://www.google.com/search?q=set+intersection&tbm=isch&ved=2ahUKEwiK8sDw7cDtAhUGSCsKHR4aCSQQ2-cCegQIABAA&oq=set+inter&gs_lcp=CgNpbWcQARgBMgQIABBDMgQIABBDMgIIADICCAAyAggAMgIIADICCAAyAggAMgIIADICCAA6BQgAELEDOgcIABCxAxBDOggIABCxAxCDAVCH_hJY_o8TYP-ZE2gAcAB4AIABlQGIAY8JkgEDMC45mAEAoAEBqgELZ3dzLXdpei1pbWfAAQE&sclient=img&ei=Z73QX8qiDYaQrQGetKSgAg#imgrc=TKIxDedJNhat8M\n"
   ]
  },
  {
   "cell_type": "code",
   "execution_count": 78,
   "metadata": {
    "collapsed": true
   },
   "outputs": [
    {
     "name": "stdout",
     "output_type": "stream",
     "text": [
      "Set A Contains =  {1, 2, 3, 4}\n",
      "Set B Contains =  {4, 5, 6, 7}\n",
      " A - B =  {1, 2, 3}\n",
      " B - A =  {5, 6, 7}\n"
     ]
    }
   ],
   "source": [
    "# Set Difference\n",
    "# Difference of A and B (A - B) is a set of elements that are only in A but not in B.\n",
    "# similarly, (B - A) is a set of elements in B but not in A.\n",
    "# The difference is performed using - operator or difference() function\n",
    "\n",
    "A  = {1,2,3,4}\n",
    "B  = {4,5,6,7}\n",
    "C  = A - B        # C Contains  {1,2,3}\n",
    "D  = B - A        # D Contains  {5,6,7}\n",
    "#C = A.difference(B)\n",
    "#D = B.difference(A)\n",
    "print('Set A Contains = ',A)\n",
    "print('Set B Contains = ',B)\n",
    "print(' A - B = ',C)\n",
    "print(' B - A = ',D)\n",
    "\n",
    "# ref: https://www.google.com/search?q=set+difference&tbm=isch&ved=2ahUKEwjA9oiH78DtAhUUALcAHdGhCHcQ2-cCegQIABAA&oq=set+diffe&gs_lcp=CgNpbWcQARgAMgIIADICCAAyAggAMgIIADICCAAyAggAMgIIADICCAAyAggAMgIIADoECCMQJzoECAAQQzoFCAAQsQNQ7uEHWPftB2C19gdoAHAAeACAAYwBiAH8BpIBAzAuN5gBAKABAaoBC2d3cy13aXotaW1nwAEB&sclient=img&ei=or7QX8CdO5SA3LUP0cOiuAc#imgrc=qd_zo8J2hjYfPM\n"
   ]
  },
  {
   "cell_type": "code",
   "execution_count": 79,
   "metadata": {
    "collapsed": true
   },
   "outputs": [
    {
     "name": "stdout",
     "output_type": "stream",
     "text": [
      "Set A Contains =  {1, 2, 3, 4}\n",
      "Set B Contains =  {4, 5, 6, 7}\n",
      "Symmetric Difference =  {1, 2, 3, 5, 6, 7}\n"
     ]
    }
   ],
   "source": [
    "# Set Symmetric Difference\n",
    "# Symmetric difference of A and B is a set of elements in both A and B except those that are common in both. \n",
    "# The Symmetric difference is performed using ^ operator also using symmetric_difference() function\n",
    "\n",
    "A  = {1,2,3,4}\n",
    "B  = {4,5,6,7}\n",
    "C  = A ^ B        # C Contains  {1,2,3,5,6,7}\n",
    "#C = A.symmetric_difference(B)\n",
    "\n",
    "print('Set A Contains = ',A)\n",
    "print('Set B Contains = ',B)\n",
    "print('Symmetric Difference = ',C)\n"
   ]
  },
  {
   "cell_type": "code",
   "execution_count": 54,
   "metadata": {},
   "outputs": [
    {
     "name": "stdout",
     "output_type": "stream",
     "text": [
      "False\n"
     ]
    }
   ],
   "source": [
    "# Comparison Opertors will works but not giving the proper output as items locations not fixed in set.\n"
   ]
  },
  {
   "cell_type": "code",
   "execution_count": null,
   "metadata": {},
   "outputs": [],
   "source": [
    "# Ex-  Perform the mathematical set operations with the following set\n",
    "A = {10,20,30,40}\n",
    "B = {30,40,50,60}"
   ]
  },
  {
   "cell_type": "markdown",
   "metadata": {},
   "source": [
    "# BEST OF LUCK"
   ]
  },
  {
   "cell_type": "code",
   "execution_count": null,
   "metadata": {
    "collapsed": true
   },
   "outputs": [],
   "source": []
  }
 ],
 "metadata": {
  "kernelspec": {
   "display_name": "Python 3",
   "language": "python",
   "name": "python3"
  },
  "language_info": {
   "codemirror_mode": {
    "name": "ipython",
    "version": 3
   },
   "file_extension": ".py",
   "mimetype": "text/x-python",
   "name": "python",
   "nbconvert_exporter": "python",
   "pygments_lexer": "ipython3",
   "version": "3.8.5"
  }
 },
 "nbformat": 4,
 "nbformat_minor": 4
}
