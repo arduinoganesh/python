{
 "cells": [
  {
   "cell_type": "markdown",
   "metadata": {},
   "source": [
    "### input() function:  This Function is used to take user input. (Less useful in Data Science)"
   ]
  },
  {
   "cell_type": "code",
   "execution_count": 1,
   "metadata": {},
   "outputs": [
    {
     "name": "stdout",
     "output_type": "stream",
     "text": [
      "Ganesh\n"
     ]
    }
   ],
   "source": [
    "name = input()"
   ]
  },
  {
   "cell_type": "code",
   "execution_count": 2,
   "metadata": {},
   "outputs": [
    {
     "name": "stdout",
     "output_type": "stream",
     "text": [
      "Ganesh\n"
     ]
    }
   ],
   "source": [
    "print(name)"
   ]
  },
  {
   "cell_type": "code",
   "execution_count": 3,
   "metadata": {},
   "outputs": [
    {
     "name": "stdout",
     "output_type": "stream",
     "text": [
      "Enter Your NameGanesh\n"
     ]
    }
   ],
   "source": [
    "name = input('Enter Your Name')"
   ]
  },
  {
   "cell_type": "code",
   "execution_count": 4,
   "metadata": {},
   "outputs": [
    {
     "name": "stdout",
     "output_type": "stream",
     "text": [
      "<class 'str'>\n"
     ]
    }
   ],
   "source": [
    "print(type(name))"
   ]
  },
  {
   "cell_type": "code",
   "execution_count": 5,
   "metadata": {},
   "outputs": [
    {
     "name": "stdout",
     "output_type": "stream",
     "text": [
      "Enter the Number34\n"
     ]
    }
   ],
   "source": [
    "num = input('Enter the Number')"
   ]
  },
  {
   "cell_type": "code",
   "execution_count": 6,
   "metadata": {},
   "outputs": [
    {
     "name": "stdout",
     "output_type": "stream",
     "text": [
      "34\n"
     ]
    }
   ],
   "source": [
    "print(num)"
   ]
  },
  {
   "cell_type": "code",
   "execution_count": 7,
   "metadata": {},
   "outputs": [
    {
     "name": "stdout",
     "output_type": "stream",
     "text": [
      "<class 'str'>\n"
     ]
    }
   ],
   "source": [
    "print(type(num))"
   ]
  },
  {
   "cell_type": "code",
   "execution_count": 9,
   "metadata": {},
   "outputs": [
    {
     "name": "stdout",
     "output_type": "stream",
     "text": [
      "Enter the First Number 13\n",
      "Enter the Second Number 12\n",
      "Addition =  25\n"
     ]
    }
   ],
   "source": [
    "num1 = int(input('Enter the First Number '))\n",
    "num2 = int(input('Enter the Second Number '))\n",
    "\n",
    "res = num1 + num2\n",
    "\n",
    "print('Addition = ',res)"
   ]
  },
  {
   "cell_type": "markdown",
   "metadata": {},
   "source": [
    "# Decision Control Stucture"
   ]
  },
  {
   "cell_type": "markdown",
   "metadata": {},
   "source": [
    "1) if condition:\n",
    "        statement1\n",
    "        statement2\n",
    "2) if condiction:\n",
    "        statement1\n",
    "   else:\n",
    "        statement2\n",
    "3) if condition1:\n",
    "        pass\n",
    "   elif condition2:\n",
    "        statement2:\n",
    "   elif condition3:\n",
    "        statement3\n",
    "   else:\n",
    "        statement4\n",
    "        \n",
    "Note that colon : after if,else,elif is compulsory. \n",
    "Also indentation of statements in if block, else block, elif block is compulsory.\n",
    "\n",
    "Relation Operators:   <  >  <=  >=  ==   !="
   ]
  },
  {
   "cell_type": "code",
   "execution_count": 28,
   "metadata": {},
   "outputs": [
    {
     "name": "stdout",
     "output_type": "stream",
     "text": [
      "True\n"
     ]
    }
   ],
   "source": [
    "a = 10\n",
    "b = 20\n",
    "print(a!=b)"
   ]
  },
  {
   "cell_type": "markdown",
   "metadata": {},
   "source": [
    "Logical Operators:    and, or and not"
   ]
  },
  {
   "cell_type": "markdown",
   "metadata": {},
   "source": [
    "Note: and operator evaluates ALL expressions. It returns last expression if all expressions evaluate to True. Otherwise it returns the first value that evaluates to false"
   ]
  },
  {
   "cell_type": "code",
   "execution_count": 29,
   "metadata": {},
   "outputs": [
    {
     "name": "stdout",
     "output_type": "stream",
     "text": [
      "35\n"
     ]
    }
   ],
   "source": [
    "a = 40\n",
    "b = 30\n",
    "x = 75 and a>=20 and b<60 and 35\n",
    "print(x)"
   ]
  },
  {
   "cell_type": "code",
   "execution_count": 30,
   "metadata": {},
   "outputs": [
    {
     "name": "stdout",
     "output_type": "stream",
     "text": [
      "False\n"
     ]
    }
   ],
   "source": [
    "y = -30 and a>=20 and b<15 and 35\n",
    "print(y)"
   ]
  },
  {
   "cell_type": "code",
   "execution_count": 31,
   "metadata": {},
   "outputs": [
    {
     "name": "stdout",
     "output_type": "stream",
     "text": [
      "0\n"
     ]
    }
   ],
   "source": [
    "z = -30 and a>=20 and 0 and 35\n",
    "print(z)"
   ]
  },
  {
   "cell_type": "markdown",
   "metadata": {},
   "source": [
    "Note: or operator evaluates ALL expressions and returns the first value that evaluates to True. Otherwise it returns last value that evaluates to False"
   ]
  },
  {
   "cell_type": "code",
   "execution_count": 32,
   "metadata": {},
   "outputs": [
    {
     "name": "stdout",
     "output_type": "stream",
     "text": [
      "75\n"
     ]
    }
   ],
   "source": [
    "a = 40\n",
    "b = 30\n",
    "x = 75 or a>20 or 60\n",
    "print(x)"
   ]
  },
  {
   "cell_type": "code",
   "execution_count": 33,
   "metadata": {},
   "outputs": [
    {
     "name": "stdout",
     "output_type": "stream",
     "text": [
      "True\n"
     ]
    }
   ],
   "source": [
    "y = a >=20 or 75 or 60\n",
    "print(y)"
   ]
  },
  {
   "cell_type": "code",
   "execution_count": 34,
   "metadata": {},
   "outputs": [
    {
     "name": "stdout",
     "output_type": "stream",
     "text": [
      "35\n"
     ]
    }
   ],
   "source": [
    "z = a<20 or 0 or 35\n",
    "print(z)"
   ]
  },
  {
   "cell_type": "code",
   "execution_count": 35,
   "metadata": {},
   "outputs": [
    {
     "name": "stdout",
     "output_type": "stream",
     "text": [
      "True\n"
     ]
    }
   ],
   "source": [
    "a = 20\n",
    "b = 30\n",
    "print(not(a>b))"
   ]
  },
  {
   "cell_type": "markdown",
   "metadata": {},
   "source": [
    "## Conditional Expressions"
   ]
  },
  {
   "cell_type": "markdown",
   "metadata": {},
   "source": [
    "Python Supports one additional decision making entity called a conditional expression\n",
    "\n",
    "<expr1>  if  <conditional expression>  else <expr2>\n",
    "    \n",
    "<conditional expression> is evaluated first. \n",
    "    If it is true, the expression evaluated to <expr1>\n",
    "    If it is false, the expression evaluated to <expr2>"
   ]
  },
  {
   "cell_type": "code",
   "execution_count": 5,
   "metadata": {},
   "outputs": [
    {
     "name": "stdout",
     "output_type": "stream",
     "text": [
      "Enter you age 17\n",
      "minor\n"
     ]
    }
   ],
   "source": [
    "age = int(input('Enter you age '))\n",
    "\n",
    "status = 'minor' if age<18 else 'adult'\n",
    "\n",
    "print(status)"
   ]
  },
  {
   "cell_type": "code",
   "execution_count": 7,
   "metadata": {},
   "outputs": [
    {
     "name": "stdout",
     "output_type": "stream",
     "text": [
      "Enter the room temperature 32\n",
      "It feeling Hot \n"
     ]
    }
   ],
   "source": [
    "temp = int(input('Enter the room temperature '))\n",
    "\n",
    "msg = 'Normal' if temp <28 else 'Hot'\n",
    "\n",
    "print('It feeling {} '.format(msg))"
   ]
  },
  {
   "cell_type": "code",
   "execution_count": 11,
   "metadata": {},
   "outputs": [
    {
     "name": "stdout",
     "output_type": "stream",
     "text": [
      "Enter Any Number33\n",
      "Odd Number\n"
     ]
    }
   ],
   "source": [
    "# Any integer is input through the keyboard. Write a program to find out whether it is an odd number of even number.\n",
    "\n",
    "num = int(input('Enter Any Number'))\n",
    "\n",
    "if num%2==0:\n",
    "    print('Even Number')\n",
    "elif num%2==1:\n",
    "    print('Odd Number')"
   ]
  },
  {
   "cell_type": "code",
   "execution_count": 13,
   "metadata": {},
   "outputs": [
    {
     "name": "stdout",
     "output_type": "stream",
     "text": [
      "Enter the radius of circle:: 4\n",
      "Area of Circle = 50.26548245743669\n"
     ]
    }
   ],
   "source": [
    "# Write a program to find the area of circle if radius is input through the keyboard.\n",
    "import math\n",
    "radius = float(input('Enter the radius of circle:: '))\n",
    "\n",
    "res = math.pi * radius * radius\n",
    "\n",
    "print(\"Area of Circle = {}\".format(res))"
   ]
  },
  {
   "cell_type": "markdown",
   "metadata": {},
   "source": [
    "# Loop Control Structure"
   ]
  },
  {
   "cell_type": "markdown",
   "metadata": {},
   "source": [
    "There are two types of loops in Python\n",
    "1) while Loop\n",
    "2) for loop\n",
    "\n",
    "while loop:\n",
    "            while is used to repeatedly execute instructions as long as condition is true.\n",
    "Syntax:\n",
    "\n",
    "while condition:\n",
    "       statement1\n",
    "       statement2\n",
    "       \n",
    "OR\n",
    "\n",
    "while condition:\n",
    "       statement1\n",
    "       statement2\n",
    "else:\n",
    "       statement3\n",
    "       statement4\n",
    "       \n",
    "Here, else block is optional. if present, it is executed when condition fails.\n",
    "\n",
    "NOTE: If the while loop is terminated abruptly using the break statement then the else block is not executed.\n",
    "\n"
   ]
  },
  {
   "cell_type": "code",
   "execution_count": 2,
   "metadata": {},
   "outputs": [
    {
     "name": "stdout",
     "output_type": "stream",
     "text": [
      "1 2 3 4 5 6 7 8 9 10 "
     ]
    }
   ],
   "source": [
    "a = 1\n",
    "\n",
    "while a<=10:\n",
    "    print(a,end=\" \")\n",
    "    a += 1"
   ]
  },
  {
   "cell_type": "code",
   "execution_count": 3,
   "metadata": {},
   "outputs": [
    {
     "name": "stdout",
     "output_type": "stream",
     "text": [
      "1 2 3 4 5 6 7 8 9 10 Loop Terminated\n"
     ]
    }
   ],
   "source": [
    "a = 1\n",
    "\n",
    "while a<=10:\n",
    "    print(a,end=\" \")\n",
    "    a += 1\n",
    "else:\n",
    "    print('Loop Terminated')"
   ]
  },
  {
   "cell_type": "markdown",
   "metadata": {},
   "source": [
    "for loop:\n",
    "\n",
    "for loop is used to iterate over elements of a sequence such as string, tuple or list.\n",
    "\n",
    "for var in list:\n",
    "       statement1\n",
    "       statement2\n",
    "       \n",
    "\n",
    "for var in list:\n",
    "       statement1\n",
    "       statement2\n",
    "else:\n",
    "       statement3\n",
    "       statement4\n",
    "\n",
    "During each iteration var is assigned the next value from the list.\n",
    "else block is optional\n",
    "if present, it is executed if loop is not teminated abruptly using break."
   ]
  },
  {
   "cell_type": "code",
   "execution_count": 5,
   "metadata": {},
   "outputs": [
    {
     "name": "stdout",
     "output_type": "stream",
     "text": [
      "1\n",
      "2\n",
      "3\n",
      "4\n",
      "5\n",
      "6\n"
     ]
    }
   ],
   "source": [
    "\n",
    "for var in [1,2,3,4,5,6]:\n",
    "    print(var)\n",
    "    "
   ]
  },
  {
   "cell_type": "code",
   "execution_count": 6,
   "metadata": {},
   "outputs": [
    {
     "name": "stdout",
     "output_type": "stream",
     "text": [
      "1\n",
      "2\n",
      "3\n",
      "4\n",
      "5\n",
      "6\n",
      "7\n",
      "8\n"
     ]
    }
   ],
   "source": [
    "lst = [1,2,3,4,5,6,7,8]\n",
    "\n",
    "for var in lst:\n",
    "    print(var)"
   ]
  },
  {
   "cell_type": "markdown",
   "metadata": {},
   "source": [
    "range() function:\n",
    "\n",
    "It can be used to generate a sequence of integers.\n",
    "\n",
    "range(10)       -  generates numbers form 0 to 9\n",
    "\n",
    "range(10,20)    -  generates numbers from 10 to 19\n",
    "\n",
    "range(10,20,2)  -  generates numbers from 10 to 19 in steps of 2\n",
    "\n",
    "range(20,10,-3) -  generates numbers from 20 to 11 in the steps of -2\n",
    "\n",
    "in general,     \n",
    "\n",
    "        range(start , stop, step)\n",
    "        \n",
    "   produces a sequence of integers from start(inclusive) to stop(exclusive) by given step."
   ]
  },
  {
   "cell_type": "code",
   "execution_count": 9,
   "metadata": {},
   "outputs": [
    {
     "name": "stdout",
     "output_type": "stream",
     "text": [
      "1\n",
      "2\n",
      "3\n",
      "4\n",
      "5\n",
      "6\n",
      "7\n",
      "8\n",
      "9\n"
     ]
    }
   ],
   "source": [
    "for i in range(1,10):\n",
    "    print(i)"
   ]
  },
  {
   "cell_type": "code",
   "execution_count": 16,
   "metadata": {},
   "outputs": [
    {
     "name": "stdout",
     "output_type": "stream",
     "text": [
      "1\n",
      "3\n",
      "5\n",
      "7\n",
      "9\n"
     ]
    }
   ],
   "source": [
    "for i in range(1,10,2):\n",
    "    print(i)"
   ]
  },
  {
   "cell_type": "code",
   "execution_count": 11,
   "metadata": {},
   "outputs": [
    {
     "name": "stdout",
     "output_type": "stream",
     "text": [
      "10\n",
      "9\n",
      "8\n",
      "7\n",
      "6\n",
      "5\n",
      "4\n",
      "3\n",
      "2\n"
     ]
    }
   ],
   "source": [
    "for i in range(10,1,-1):\n",
    "    print(i)"
   ]
  },
  {
   "cell_type": "code",
   "execution_count": 12,
   "metadata": {},
   "outputs": [
    {
     "name": "stdout",
     "output_type": "stream",
     "text": [
      "P\n",
      "y\n",
      "t\n",
      "h\n",
      "o\n",
      "n\n"
     ]
    }
   ],
   "source": [
    "name = \"Python\"\n",
    "\n",
    "for ch in name:\n",
    "    print(ch)   # can be used to iterate through string"
   ]
  },
  {
   "cell_type": "code",
   "execution_count": 13,
   "metadata": {},
   "outputs": [
    {
     "name": "stdout",
     "output_type": "stream",
     "text": [
      "10\n",
      "34\n",
      "5\n",
      "6\n",
      "Life\n",
      "45.8\n"
     ]
    }
   ],
   "source": [
    "lst = [10,34,5,6,'Life',45.8]\n",
    "\n",
    "for var in lst:\n",
    "    print(var)"
   ]
  },
  {
   "cell_type": "code",
   "execution_count": 17,
   "metadata": {},
   "outputs": [
    {
     "name": "stdout",
     "output_type": "stream",
     "text": [
      "1\n",
      "8\n",
      "27\n",
      "64\n",
      "125\n",
      "216\n",
      "343\n",
      "512\n",
      "729\n",
      "1000\n"
     ]
    }
   ],
   "source": [
    "# Write a program to print the cube of numbers from 1 to 10\n",
    "\n",
    "for var in range(1,11):\n",
    "    print(var**3)"
   ]
  },
  {
   "cell_type": "code",
   "execution_count": 19,
   "metadata": {},
   "outputs": [
    {
     "name": "stdout",
     "output_type": "stream",
     "text": [
      "Sum of First 10 Natural Numbers = 55\n"
     ]
    }
   ],
   "source": [
    "# Write a program to print sum of first 10 natural numbers\n",
    "\n",
    "sum = 0\n",
    "for i in range(1,11):\n",
    "    sum = sum+i\n",
    "print(\"Sum of First 10 Natural Numbers = %d\"%sum)"
   ]
  },
  {
   "cell_type": "code",
   "execution_count": null,
   "metadata": {},
   "outputs": [],
   "source": []
  }
 ],
 "metadata": {
  "kernelspec": {
   "display_name": "Python 3",
   "language": "python",
   "name": "python3"
  },
  "language_info": {
   "codemirror_mode": {
    "name": "ipython",
    "version": 3
   },
   "file_extension": ".py",
   "mimetype": "text/x-python",
   "name": "python",
   "nbconvert_exporter": "python",
   "pygments_lexer": "ipython3",
   "version": "3.8.5"
  }
 },
 "nbformat": 4,
 "nbformat_minor": 4
}
