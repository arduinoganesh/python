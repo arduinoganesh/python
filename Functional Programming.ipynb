{
 "cells": [
  {
   "cell_type": "markdown",
   "metadata": {},
   "source": [
    "# Functional Programming"
   ]
  },
  {
   "cell_type": "markdown",
   "metadata": {},
   "source": [
    "In Functional Programming, a problem is treated as evaluation of one or more functions.\n",
    "\n",
    "Hence, a given problem is decomposed into a set of functions. These functions provide the main source of logic in the program."
   ]
  },
  {
   "cell_type": "markdown",
   "metadata": {},
   "source": [
    "In Python, we can assigned functions to a variables and then it can be called using these variables."
   ]
  },
  {
   "cell_type": "code",
   "execution_count": null,
   "metadata": {},
   "outputs": [],
   "source": [
    "def display(num):\n",
    "    print(num)\n",
    "\n",
    "show = display\n",
    "\n",
    "show(10)\n",
    "display(20)"
   ]
  },
  {
   "cell_type": "markdown",
   "metadata": {},
   "source": [
    "In python, functions can be passed as arguments to function and function can be returned from functions."
   ]
  },
  {
   "cell_type": "code",
   "execution_count": null,
   "metadata": {},
   "outputs": [],
   "source": [
    "def add(x,y,f):\n",
    "    res = x+y\n",
    "    f(res)\n",
    "    \n",
    "def display(num):\n",
    "    print('Result is :',num)\n",
    "\n",
    "f = display\n",
    "\n",
    "add(10,20,f)"
   ]
  },
  {
   "cell_type": "markdown",
   "metadata": {},
   "source": [
    "# Lambda Function"
   ]
  },
  {
   "cell_type": "markdown",
   "metadata": {},
   "source": [
    "Normal Functions have name. They are defined using the def keywords.\n",
    "\n",
    "Lambda functions do not have names. They are defined using the lambda keyword and are built at execution time.\n",
    "\n",
    "Lambda functions are commonly used for short functions that are convenient to define at the point where they are called.\n",
    "\n",
    "Lambda functions are also called anonymous functions or inline functions.\n",
    "\n",
    "Lambda functions can take any number of arguments but can return any one value.\n",
    "\n",
    "Syntax:\n",
    "\n",
    "lambda arguments: expression\n",
    "\n",
    "here, : seperates the parameters to be passed to the lambda function and the function body.\n",
    "The result after running the function body is returned implicitly."
   ]
  },
  {
   "cell_type": "code",
   "execution_count": null,
   "metadata": {},
   "outputs": [],
   "source": [
    "(lambda n:n*n)(2)"
   ]
  },
  {
   "cell_type": "code",
   "execution_count": null,
   "metadata": {},
   "outputs": [],
   "source": [
    "\n",
    "square = lambda n:n*n\n",
    "\n",
    "print(square(3))"
   ]
  },
  {
   "cell_type": "code",
   "execution_count": null,
   "metadata": {},
   "outputs": [],
   "source": [
    "# we can use directly lambda to call the function as\n",
    "\n",
    "print((lambda n:n*n)(3))"
   ]
  },
  {
   "cell_type": "code",
   "execution_count": null,
   "metadata": {},
   "outputs": [],
   "source": [
    "# More examples\n",
    "\n",
    "# Write a lambda function, that will take three arguments and returns the sum of it\n",
    "\n",
    "add = lambda a,b,c:a+b+c\n",
    "\n",
    "print(add(3,4,5))"
   ]
  },
  {
   "cell_type": "code",
   "execution_count": null,
   "metadata": {},
   "outputs": [],
   "source": [
    "# Write a lambda function, that will receive a string, strips any whitespace and return the uppercase version of string\n",
    "\n",
    "print((lambda string:string.strip().upper())('  Nashik  '))\n"
   ]
  },
  {
   "cell_type": "code",
   "execution_count": null,
   "metadata": {},
   "outputs": [],
   "source": [
    "# We can pass any container types to lambda function. \n",
    "\n",
    "# Write a lambda function that calculates average of numbers in a list.\n",
    "\n",
    "list1 = [1,2,3,4,5,6]\n",
    "\n",
    "my_avg = lambda l:sum(l)/len(l)\n",
    "\n",
    "print('Average = ',my_avg(list1))"
   ]
  },
  {
   "cell_type": "code",
   "execution_count": null,
   "metadata": {},
   "outputs": [],
   "source": [
    "# we can use lambda function directly in print function\n",
    "\n",
    "list1 = [1,2,3,4,5,6]\n",
    "\n",
    "print((lambda l:sum(l)/len(l))(list1))"
   ]
  },
  {
   "cell_type": "markdown",
   "metadata": {},
   "source": [
    "## Higher order functions"
   ]
  },
  {
   "cell_type": "markdown",
   "metadata": {},
   "source": [
    "A higher order function is a function, that can receive other functions as arguments or return them.\n",
    "\n",
    "we can pass a lambda function to sorted() function to sort a dictionary by values.\n"
   ]
  },
  {
   "cell_type": "code",
   "execution_count": null,
   "metadata": {},
   "outputs": [],
   "source": [
    "grocery = {'Sunflower Oil':110,'Sugar':40,'Coconut Oil':230,'almonds':800}\n",
    "\n",
    "updated = sorted(grocery.items(),key=lambda kv:kv[1])\n",
    "\n",
    "print(updated)"
   ]
  },
  {
   "cell_type": "code",
   "execution_count": null,
   "metadata": {},
   "outputs": [],
   "source": [
    "# Sorted function uses a parameter key. It specifies a function of one arguments \n",
    "# that is used to extract a comparison for each element in the first argument of sorted().\n",
    "# The default value of key is None, indicating that the elements in first argument are to be compared directly."
   ]
  },
  {
   "cell_type": "markdown",
   "metadata": {},
   "source": [
    "## map, filter, reduce function"
   ]
  },
  {
   "cell_type": "code",
   "execution_count": null,
   "metadata": {},
   "outputs": [],
   "source": [
    "# A map operation applies a function to each element in the sequence like list, tuple, etc \n",
    "# and returns a new sequence containing the result."
   ]
  },
  {
   "cell_type": "code",
   "execution_count": null,
   "metadata": {},
   "outputs": [],
   "source": [
    "# Use of map function\n",
    "# Usage:   map(function_to_apply , list_of_inputs)\n",
    "# map() returns a map object which can be converted to a list/tuple/set using list/tuple/set function.\n",
    "\n",
    "def square(n):\n",
    "    return n*n\n",
    "\n",
    "list1 = [1,2,3,4,5,6,7,8,9,10]\n",
    "\n",
    "result_list = map(square,list1)\n",
    "\n",
    "print(list(result_list))"
   ]
  },
  {
   "cell_type": "code",
   "execution_count": null,
   "metadata": {},
   "outputs": [],
   "source": [
    "# instead of using user defined function, we can use built-in function also\n",
    "import math\n",
    "\n",
    "fact_result = map(math.factorial,list1)\n",
    "\n",
    "print(list(fact_result))"
   ]
  },
  {
   "cell_type": "code",
   "execution_count": null,
   "metadata": {},
   "outputs": [],
   "source": [
    "# The advantage of using map function is we do not need a for loop or if statement to control the flow."
   ]
  },
  {
   "cell_type": "code",
   "execution_count": null,
   "metadata": {},
   "outputs": [],
   "source": [
    "# A Filter operation applies a function to all the elements of a sequence. \n",
    "# and the sequence of those elements for which the function returns true is returned"
   ]
  },
  {
   "cell_type": "code",
   "execution_count": null,
   "metadata": {},
   "outputs": [],
   "source": [
    "# Use of filter function\n",
    "# Usage::    filter(function_to_apply,list_of_inputs)"
   ]
  },
  {
   "cell_type": "code",
   "execution_count": null,
   "metadata": {},
   "outputs": [],
   "source": [
    "def even(n):\n",
    "    if n%2==0:\n",
    "        return True\n",
    "    else:\n",
    "        return False\n",
    "\n",
    "def odd(n):\n",
    "    if n%2==1:\n",
    "        return True\n",
    "    else:\n",
    "        return False\n",
    "\n",
    "lst = [2,3,4,5,6,7,8,9,10]\n",
    "\n",
    "even_lst = filter(even,lst)\n",
    "odd_lst = filter(odd,lst)\n",
    "\n",
    "print(\"Even List = \", list(even_lst))\n",
    "\n",
    "print(\"Odd List = \", list(odd_lst))"
   ]
  },
  {
   "cell_type": "code",
   "execution_count": null,
   "metadata": {},
   "outputs": [],
   "source": [
    "lst1 = ['2','a','4','3','b','M']\n",
    "\n",
    "print(list(filter(str.isalpha,lst1)))"
   ]
  },
  {
   "cell_type": "code",
   "execution_count": null,
   "metadata": {},
   "outputs": [],
   "source": [
    "print(list(filter(str.isdigit,lst1)))"
   ]
  },
  {
   "cell_type": "code",
   "execution_count": null,
   "metadata": {},
   "outputs": [],
   "source": [
    "# Reduce Function\n",
    "\n",
    "# A reduce operation performs a rolling computation to sequential pairs of values in a sequence \n",
    "# and returns the result.\n",
    "\n",
    "# Usage of reduce function:\n",
    "\n",
    "#  from functools import reduce\n",
    "#  reduce(function_to_apply, list_of_inputs)\n"
   ]
  },
  {
   "cell_type": "code",
   "execution_count": null,
   "metadata": {},
   "outputs": [],
   "source": [
    "from functools import reduce\n",
    "\n",
    "def getsum(x,y):\n",
    "    return x+y\n",
    "\n",
    "lst = [1,2,3,4,5]\n",
    "\n",
    "s = reduce(getsum,lst)\n",
    "\n",
    "print(\"Sum = \", s)"
   ]
  },
  {
   "cell_type": "code",
   "execution_count": null,
   "metadata": {},
   "outputs": [],
   "source": [
    "def combine_str(x,y):\n",
    "    return x +' ' + y\n",
    "\n",
    "list1 = ['I','Love','India']\n",
    "\n",
    "res_str = reduce(combine_str,list1)\n",
    "\n",
    "print(res_str)"
   ]
  },
  {
   "cell_type": "code",
   "execution_count": null,
   "metadata": {},
   "outputs": [],
   "source": [
    "# We can also use lambda function with map,filter,reduce.\n",
    "\n",
    "# using lambda with map()\n",
    "lst1 = [2,4,6,8,10]\n",
    "lst2 = map(lambda n:n*n,lst1)\n",
    "print(list(lst2))"
   ]
  },
  {
   "cell_type": "code",
   "execution_count": null,
   "metadata": {},
   "outputs": [],
   "source": [
    "# using lambda with filter()\n",
    "lst1 = [2,3,4,5,6,7,8,9,10]\n",
    "lst2 = filter(lambda n:n%2==0,lst1)\n",
    "print(list(lst2))"
   ]
  },
  {
   "cell_type": "code",
   "execution_count": null,
   "metadata": {},
   "outputs": [],
   "source": [
    "# using lambda with reduce()\n",
    "\n",
    "lst = [1,2,3,4,5]\n",
    "s = reduce(lambda n,m:n+m,lst)\n",
    "print(\"Sum = \", s)"
   ]
  },
  {
   "cell_type": "code",
   "execution_count": null,
   "metadata": {},
   "outputs": [],
   "source": []
  }
 ],
 "metadata": {
  "kernelspec": {
   "display_name": "Python 3",
   "language": "python",
   "name": "python3"
  },
  "language_info": {
   "codemirror_mode": {
    "name": "ipython",
    "version": 3
   },
   "file_extension": ".py",
   "mimetype": "text/x-python",
   "name": "python",
   "nbconvert_exporter": "python",
   "pygments_lexer": "ipython3",
   "version": "3.8.5"
  }
 },
 "nbformat": 4,
 "nbformat_minor": 4
}
