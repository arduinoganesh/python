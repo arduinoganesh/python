{
 "cells": [
  {
   "cell_type": "markdown",
   "metadata": {},
   "source": [
    "# Python Functions"
   ]
  },
  {
   "cell_type": "markdown",
   "metadata": {},
   "source": [
    "Python Function is a block of code that performs a sepcific and well-defined task.\n",
    "\n",
    "Advantages of Functions:\n",
    "> They help us divide out program into multiple tasks. For each task, we can define a function. This makes the code modular\n",
    "\n",
    "> Functions provide a reuse mechanism. The same function can be called any number of times."
   ]
  },
  {
   "cell_type": "markdown",
   "metadata": {},
   "source": [
    " There are two types of Python Functions:\n",
    " > Built-in Functions\n",
    " \n",
    " > Use defined Functions"
   ]
  },
  {
   "cell_type": "markdown",
   "metadata": {},
   "source": [
    "### When a function is called, control is transferred to the function, its statements are executed and control is returned to the place from where the call originated or initiated."
   ]
  },
  {
   "cell_type": "code",
   "execution_count": null,
   "metadata": {},
   "outputs": [],
   "source": [
    "# Function example\n",
    "def display(num):\n",
    "    print('You have passed::  %d'%num)\n",
    "    \n",
    "# above code is the example of function defination"
   ]
  },
  {
   "cell_type": "code",
   "execution_count": null,
   "metadata": {},
   "outputs": [],
   "source": [
    "display(3)"
   ]
  },
  {
   "cell_type": "code",
   "execution_count": null,
   "metadata": {},
   "outputs": [],
   "source": [
    "# Function with return value\n",
    "def cal_sum(x,y,z):\n",
    "    return x+y+z\n",
    "\n",
    "# return statement return control and value from a function. return without an expression returns none"
   ]
  },
  {
   "cell_type": "code",
   "execution_count": null,
   "metadata": {},
   "outputs": [],
   "source": [
    "sum = cal_sum(3,4,5)\n",
    "\n",
    "print('Sum is {}'.format(sum))"
   ]
  },
  {
   "cell_type": "code",
   "execution_count": null,
   "metadata": {},
   "outputs": [],
   "source": [
    "# To return multiple values from a function, we can put them into a list/tuple/set/dictionary and then return it.\n",
    "\n",
    "def cal_sum_mul(x,y):\n",
    "    add = x+y\n",
    "    mul = x*y\n",
    "    return (add,mul)  # return as tuple\n",
    "\n",
    "a = 10\n",
    "b = 5\n",
    "addition,multi = cal_sum_mul(a,b)\n",
    "\n",
    "print(\"Addition = {}, Multiplication = {}\".format(addition,multi))"
   ]
  },
  {
   "cell_type": "code",
   "execution_count": null,
   "metadata": {},
   "outputs": [],
   "source": [
    "# IMP: If function is not having return statement, then that function return value is None"
   ]
  },
  {
   "cell_type": "markdown",
   "metadata": {},
   "source": [
    "## Types of Arguments"
   ]
  },
  {
   "cell_type": "code",
   "execution_count": null,
   "metadata": {},
   "outputs": [],
   "source": [
    "# Arguments un a Python function can be of 4 types:\n",
    "# a) Positional arguments\n",
    "# b) Keyword argumetns\n",
    "# c) Variable-length positonal arguments\n",
    "# d) Variable-length keyword arguments\n",
    "\n",
    "# Positional and keyword arguments are often called 'required' arguments, \n",
    "# whereas, variable-lenght arguments are called 'Optional' arguments"
   ]
  },
  {
   "cell_type": "code",
   "execution_count": null,
   "metadata": {},
   "outputs": [],
   "source": [
    "# Positional arguments must be passed in correct positional order.\n",
    "# e.g\n",
    "\n",
    "def display_info(name,age,marks):  # arguments must be in order string, int, float\n",
    "    print('Name : ',name.upper())\n",
    "    print(\"Age  : \", age)\n",
    "    print(\"Marks: \",marks)\n",
    "\n",
    "display_info('Nirav',24,67.55)"
   ]
  },
  {
   "cell_type": "code",
   "execution_count": null,
   "metadata": {},
   "outputs": [],
   "source": [
    "display_info(24,'Nirav',57.55)   # Here order is not matched, so it generates the error."
   ]
  },
  {
   "cell_type": "code",
   "execution_count": null,
   "metadata": {},
   "outputs": [],
   "source": [
    "# VIMP: While passing positional arguments, number of arguments passed must match with mumber of arguments received.\n",
    "display_info('Nirav',45)"
   ]
  },
  {
   "cell_type": "code",
   "execution_count": null,
   "metadata": {},
   "outputs": [],
   "source": [
    "# Keyword arguments can be passed out of order. \n",
    "# Python interperter uses keywords (variable names) to match the values\n",
    "# passed with the arguments used in the function definition.\n",
    "\n",
    "def display_info(name,age,marks):  # arguments must be in order string, int, float\n",
    "    print('Name : ',name.upper())\n",
    "    print(\"Age  : \", age)\n",
    "    print(\"Marks: \",marks)\n",
    "\n",
    "display_info(name='Nirav',age=24,marks=67.55)"
   ]
  },
  {
   "cell_type": "code",
   "execution_count": null,
   "metadata": {},
   "outputs": [],
   "source": [
    "# we can change the order of arguments while calling the function if we use the keyword arguments\n",
    "display_info(age=24,marks=67.55,name='Nirav')"
   ]
  },
  {
   "cell_type": "code",
   "execution_count": null,
   "metadata": {},
   "outputs": [],
   "source": [
    "# we can combine positional arguments and keywords arguments\n",
    "\n",
    "display_info('Nirav',marks=68.67,age=45)\n",
    "    "
   ]
  },
  {
   "cell_type": "code",
   "execution_count": null,
   "metadata": {},
   "outputs": [],
   "source": [
    "# But Postional arguments must precede keyword arguments, if not, then it report the error\n",
    "\n",
    "display_info(name='Nirav',marks=68.67,45)"
   ]
  },
  {
   "cell_type": "markdown",
   "metadata": {},
   "source": [
    "## Multi-arguments function"
   ]
  },
  {
   "cell_type": "code",
   "execution_count": null,
   "metadata": {},
   "outputs": [],
   "source": [
    "# sometimes number of positional arguments to be passed to a function is not certain.\n",
    "# In such cases, variable length positional arguments can be received using *args\n",
    "\n",
    "def print_numbers(*args):\n",
    "    for var in args:\n",
    "        print(var)\n",
    "\n",
    "print_numbers(1)\n",
    "\n",
    "# Here args used in the definition of print_numbers() is a tuple. \n",
    "# * indicates that it will hold all the arguments passed to function.\n",
    "# The tuple can be iterated through using a for loop"
   ]
  },
  {
   "cell_type": "code",
   "execution_count": null,
   "metadata": {},
   "outputs": [],
   "source": [
    "print_numbers(1,2,3)"
   ]
  },
  {
   "cell_type": "code",
   "execution_count": null,
   "metadata": {},
   "outputs": [],
   "source": [
    "print_numbers(1,2,3,4,5)"
   ]
  },
  {
   "cell_type": "code",
   "execution_count": null,
   "metadata": {},
   "outputs": [],
   "source": [
    "print_numbers(1,2,3,'Hello','Good Morning')"
   ]
  },
  {
   "cell_type": "code",
   "execution_count": null,
   "metadata": {},
   "outputs": [],
   "source": [
    "# Sometimes number of keyword arguments to be passed to a function is not certain. \n",
    "# In such cases, variable-length keyword arguments can be received using **kwargs\n",
    "\n",
    "def print_info(**kwargs):\n",
    "    for arg,value in kwargs.items():\n",
    "        print(arg,value)\n",
    "        \n",
    "## kwargs used in definition of above funtion is a dictionary containing argument names as keys and their values as values.\n"
   ]
  },
  {
   "cell_type": "code",
   "execution_count": null,
   "metadata": {},
   "outputs": [],
   "source": [
    "print_info(name='Nirav',age=24)"
   ]
  },
  {
   "cell_type": "code",
   "execution_count": null,
   "metadata": {},
   "outputs": [],
   "source": [
    "print_info(name='Nirva',marks=45.66,mobile=9890334455,age=24)"
   ]
  },
  {
   "cell_type": "code",
   "execution_count": null,
   "metadata": {},
   "outputs": [],
   "source": [
    "## VVIMP => we can use any other names in place of args and kwargs.\n",
    "## we cannnot use more than one args and more than one kwargs while defining a function"
   ]
  },
  {
   "cell_type": "code",
   "execution_count": null,
   "metadata": {},
   "outputs": [],
   "source": [
    "# If the function is to receive required as well as optional arguments then they must occur in following order\n",
    "\n",
    "# 1. positional arguments\n",
    "# 2. variable-length postional arguments\n",
    "# 3. keyword arguments\n",
    "# 4. variable-length keyword arguments\n",
    "\n",
    "def print_info(i,j,*args,x,y,**kwargs):\n",
    "    \n",
    "    print(\"Positional Arguments: \",i,j)\n",
    "    print(\"Varibale Length postional Arguments: \",end=\"\")\n",
    "    for var in args:\n",
    "        print(var,end=' ')\n",
    "    print()\n",
    "    print('Keyword Arguments: ',x,y)\n",
    "    print('Varibale Length keyword Arguments: ',end=\"\")\n",
    "    for name,val in kwargs.items():\n",
    "        print(val,end=' ')"
   ]
  },
  {
   "cell_type": "code",
   "execution_count": null,
   "metadata": {},
   "outputs": [],
   "source": [
    "print_info(10,20,x=30,y=40)  # Here no use of variable length args"
   ]
  },
  {
   "cell_type": "code",
   "execution_count": null,
   "metadata": {},
   "outputs": [],
   "source": [
    "print_info(10,20,100,200,x=30,y=40)  # Here no use of variable length keyword argumets"
   ]
  },
  {
   "cell_type": "code",
   "execution_count": null,
   "metadata": {},
   "outputs": [],
   "source": [
    "print_info(10,20,100,200,x=30,y=40,a=1000,b=2000,c=3000)  # all types of argumets used"
   ]
  },
  {
   "cell_type": "code",
   "execution_count": null,
   "metadata": {},
   "outputs": [],
   "source": [
    "# But if we call the function as\n",
    "print_info(10,20,100,200)\n",
    "\n",
    "# then it generates the error"
   ]
  },
  {
   "cell_type": "markdown",
   "metadata": {},
   "source": [
    "## Default argumets"
   ]
  },
  {
   "cell_type": "code",
   "execution_count": null,
   "metadata": {},
   "outputs": [],
   "source": [
    "# while defining a function, default value can be given to arguments.\n",
    "# Default value will be used if we do not pass the value for that arguments during the function call.\n",
    "\n",
    "def area_circle(r,pi=3.14):\n",
    "    return pi*r*r\n",
    "\n",
    "print(area_circle(10))   # default value of pi is used if not given during the function call"
   ]
  },
  {
   "cell_type": "code",
   "execution_count": null,
   "metadata": {},
   "outputs": [],
   "source": [
    "print(area_circle(10,3.1467)) # value of pi is given at the time of function call, so default value not being used"
   ]
  },
  {
   "cell_type": "code",
   "execution_count": null,
   "metadata": {},
   "outputs": [],
   "source": [
    "# IMP: Note that, while defining a function default arguments must follow non default arguments\n",
    "# see the above example"
   ]
  },
  {
   "cell_type": "code",
   "execution_count": null,
   "metadata": {},
   "outputs": [],
   "source": [
    "# if not follow the rule,\n",
    "def area_circle(pi=3.14,r):  # Here default arguments comes first, so it report the error\n",
    "    return pi*r*r"
   ]
  },
  {
   "cell_type": "markdown",
   "metadata": {},
   "source": [
    "## Unpacking the arguments"
   ]
  },
  {
   "cell_type": "code",
   "execution_count": null,
   "metadata": {},
   "outputs": [],
   "source": [
    "# Suppose a function is expecting postional arguments and the arguments to be passed are in a list or tuple.\n",
    "# In such a case we need to unpack the list or tuple using * operator before passsing it to the function\n",
    "\n",
    "def print_addition(a,b,c,d,e):\n",
    "    print(a+b+c+d+e)\n",
    "\n",
    "list1 = [1,2,3,4,5]\n",
    "tpl = (10,20,30,40,50)\n",
    "\n",
    "print_addition(*list1)\n",
    "print_addition(*tpl)"
   ]
  },
  {
   "cell_type": "code",
   "execution_count": null,
   "metadata": {},
   "outputs": [],
   "source": [
    "## Suppose a function is expecting keyword arguments and the arguments to be passed are in a dictionary.\n",
    "# In such case, we need to unpack the dictionary using ** operator before passing it to the function\n",
    "\n",
    "def display_info(name,age,marks):  # arguments must be in order string, int, float\n",
    "    print('Name : ',name.upper())\n",
    "    print(\"Age  : \", age)\n",
    "    print(\"Marks: \",marks)\n",
    "    \n",
    "d = {'name':'John','age':35,'marks':45.67}\n",
    "\n",
    "display_info(**d)"
   ]
  },
  {
   "cell_type": "markdown",
   "metadata": {},
   "source": [
    "# BEST OF LUCK\n"
   ]
  },
  {
   "cell_type": "code",
   "execution_count": null,
   "metadata": {},
   "outputs": [],
   "source": []
  }
 ],
 "metadata": {
  "kernelspec": {
   "display_name": "Python 3",
   "language": "python",
   "name": "python3"
  },
  "language_info": {
   "codemirror_mode": {
    "name": "ipython",
    "version": 3
   },
   "file_extension": ".py",
   "mimetype": "text/x-python",
   "name": "python",
   "nbconvert_exporter": "python",
   "pygments_lexer": "ipython3",
   "version": "3.8.5"
  }
 },
 "nbformat": 4,
 "nbformat_minor": 4
}
