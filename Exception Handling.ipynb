{
 "cells": [
  {
   "cell_type": "code",
   "execution_count": null,
   "metadata": {},
   "outputs": [],
   "source": [
    "# While creating and executing a python program, things may go wrong at two different stages- \n",
    "#    1. During Compilation\n",
    "#    2. During Execution"
   ]
  },
  {
   "cell_type": "code",
   "execution_count": null,
   "metadata": {},
   "outputs": [],
   "source": [
    "# Errors that occur during compilation are called syntax errors.\n",
    "\n",
    "# Errors that occur during execution are called Exceptions."
   ]
  },
  {
   "cell_type": "markdown",
   "metadata": {},
   "source": [
    "### Syntax Errors"
   ]
  },
  {
   "cell_type": "code",
   "execution_count": null,
   "metadata": {},
   "outputs": [],
   "source": [
    "# Syntax Errors occurs due to typing mistakes done by programmer.\n",
    "# If the Program is not as per language grammer, it is detected by Interpreter/Compiler\n",
    "# If Syntax Error occurs, programmer has to correct it according to language grammer."
   ]
  },
  {
   "cell_type": "code",
   "execution_count": null,
   "metadata": {},
   "outputs": [],
   "source": [
    "# Common syntax errors are,\n",
    "#  1. Leaving out a symbol, such as a colon, comma or brackets\n",
    "#  2. Misspelling a keyword\n",
    "#  3. Incorrect Indentation\n",
    "#  4. Empty if, else, while, for, function, class, method\n",
    "#  5. Missing :\n",
    "#  6. Incorrect number of positional arguments"
   ]
  },
  {
   "cell_type": "code",
   "execution_count": null,
   "metadata": {},
   "outputs": [],
   "source": [
    "# Example\n",
    "\n",
    "num = 25\n",
    "if num>20:\n",
    "    print('Number is greater than 20')"
   ]
  },
  {
   "cell_type": "markdown",
   "metadata": {},
   "source": [
    "### Exceptions"
   ]
  },
  {
   "cell_type": "code",
   "execution_count": null,
   "metadata": {},
   "outputs": [],
   "source": [
    "# Runtime errors are called as Exceptions\n",
    "# Exceptions are detected by Python Runtime environment \n"
   ]
  },
  {
   "cell_type": "code",
   "execution_count": null,
   "metadata": {},
   "outputs": [],
   "source": [
    "# Examples of Runtime errors/exceptions\n",
    "\n",
    "#   1. Memory Related - Stack/Heap overflow, Exceeding array bounds\n",
    "#   2. Arithmetic Related - Divide by Zero, Arithmetic overflow/underflow\n",
    "#   3. Others - Attempt to use an unassigned reference, File not found"
   ]
  },
  {
   "cell_type": "code",
   "execution_count": null,
   "metadata": {},
   "outputs": [],
   "source": [
    "# Example\n",
    "a = int(input('Enter a number '))\n",
    "b = int(input('Enter a number '))\n",
    "c = a/b\n",
    "print(c)"
   ]
  },
  {
   "cell_type": "code",
   "execution_count": null,
   "metadata": {},
   "outputs": [],
   "source": [
    "a,b = 10,20\n",
    "c = a/b*d"
   ]
  },
  {
   "cell_type": "markdown",
   "metadata": {},
   "source": [
    "### How to handle the exceptions?"
   ]
  },
  {
   "cell_type": "code",
   "execution_count": null,
   "metadata": {},
   "outputs": [],
   "source": [
    "#  We can use try and except blocks to handle the exceptions.\n",
    "\n",
    "# The statements which you suspect may go wrong at runtime should be enclosed within a try block.\n",
    "\n",
    "# and if exceptions occurs the the exception handling statements should be enclosed in except block."
   ]
  },
  {
   "cell_type": "code",
   "execution_count": null,
   "metadata": {},
   "outputs": [],
   "source": [
    "# Example\n",
    "\n",
    "try:\n",
    "    a = int(input('Enter a number '))\n",
    "    b = int(input('Enter a number '))\n",
    "    c = a/b\n",
    "    print('c = ',c)\n",
    "except ZeroDivisionError:\n",
    "    print('Error: Denominator is 0')\n",
    "print('main')"
   ]
  },
  {
   "cell_type": "code",
   "execution_count": null,
   "metadata": {},
   "outputs": [],
   "source": [
    "# If no exception occurs during execution of statements in try block, \n",
    "# control goes to first line after the except block.\n",
    "\n",
    "# If an exception occurs during excution of statments in try block,\n",
    "# an exception is raised and rest of the try block is skipped.\n",
    "# Control goes now to the except block.\n",
    "# Here, if the type of exception raised matched the exception named after \n",
    "#    except keyword, then that except block is executed otherwise,\n",
    "#    default exception handler catches the exception, print stack trace and terminated executions"
   ]
  },
  {
   "cell_type": "code",
   "execution_count": null,
   "metadata": {},
   "outputs": [],
   "source": [
    "try:\n",
    "    a = int(input('Enter a number '))\n",
    "    b = int(input('Enter a number '))\n",
    "    c = a/b*d\n",
    "    print('c = ',c)\n",
    "except ZeroDivisionError:\n",
    "    print('Error: Denominator is 0')"
   ]
  },
  {
   "cell_type": "code",
   "execution_count": null,
   "metadata": {},
   "outputs": [],
   "source": [
    "try:\n",
    "    a = int(input('Enter a number '))\n",
    "    b = int(input('Enter a number '))\n",
    "    c = a/b*d\n",
    "    print('c = ',c)\n",
    "except ZeroDivisionError:\n",
    "    print('Error: Denominator is 0')\n",
    "except NameError:\n",
    "    print('Undefined variable')"
   ]
  },
  {
   "cell_type": "code",
   "execution_count": null,
   "metadata": {},
   "outputs": [],
   "source": [
    "# Multiple except blocks for one try block can be added\n",
    "# At a time only one except block goes to work.\n"
   ]
  },
  {
   "cell_type": "code",
   "execution_count": null,
   "metadata": {},
   "outputs": [],
   "source": [
    "# In case of Same action has to taken for multiple exceptions then we can put these exceptions in a tuple\n",
    "\n",
    "try:\n",
    "    a = int(input('Enter a number '))\n",
    "    b = int(input('Enter a number '))\n",
    "    c = a/b\n",
    "    print('c = ',c)\n",
    "except:\n",
    "    print('Exception Occures')"
   ]
  },
  {
   "cell_type": "markdown",
   "metadata": {},
   "source": [
    "### else block"
   ]
  },
  {
   "cell_type": "code",
   "execution_count": null,
   "metadata": {},
   "outputs": [],
   "source": [
    "# The try .. except statement may also have an optional else block.\n",
    "# If it is present, it must present after all the except blocks.\n",
    "# Control goes to else block if no exception occurs during execution of the try block."
   ]
  },
  {
   "cell_type": "code",
   "execution_count": 3,
   "metadata": {},
   "outputs": [
    {
     "name": "stdout",
     "output_type": "stream",
     "text": [
      "10 100\n",
      "20 400\n",
      "30 900\n",
      "40 1600\n",
      "50 2500\n",
      "Total numbers processed  5\n"
     ]
    }
   ],
   "source": [
    "try:\n",
    "    lst = [10,'20',30,40,50]\n",
    "    for num in lst:\n",
    "        i = int(num)\n",
    "        j = i*i\n",
    "        print(i,j)\n",
    "except ValueError:\n",
    "    print('Invalid type')\n",
    "else:\n",
    "    print(\"Total numbers processed \", len(lst))\n",
    "    del(lst)"
   ]
  },
  {
   "cell_type": "markdown",
   "metadata": {},
   "source": [
    "### finally block"
   ]
  },
  {
   "cell_type": "code",
   "execution_count": null,
   "metadata": {},
   "outputs": [],
   "source": [
    "#  finally block is optional\n",
    "#  Code in finally always runs, no matter exception occurs or not occurs.\n",
    "#  finally block is placed after except blocks (if they exist)\n",
    "#  try block must have except block and/or finally block.\n",
    "\n",
    "#  finally block is commonly used for releasing external resources like files, network connections\n",
    "#      or database connections, irrespective of whether the use of the resource was successful or not."
   ]
  },
  {
   "cell_type": "code",
   "execution_count": 5,
   "metadata": {},
   "outputs": [
    {
     "name": "stdout",
     "output_type": "stream",
     "text": [
      "Enter a number 10\n",
      "Enter a number 0\n",
      "Error: Denominator is 0\n",
      "Program exited successfully\n"
     ]
    }
   ],
   "source": [
    "try:\n",
    "    a = int(input('Enter a number '))\n",
    "    b = int(input('Enter a number '))\n",
    "    c = a/b\n",
    "    print('c = ',c)\n",
    "except ZeroDivisionError:\n",
    "    print('Error: Denominator is 0')\n",
    "except NameError:\n",
    "    print('Undefined variable')\n",
    "finally:\n",
    "    print('Program exited successfully')"
   ]
  },
  {
   "cell_type": "code",
   "execution_count": null,
   "metadata": {},
   "outputs": [],
   "source": [
    "# Program with try-except-else-finally"
   ]
  },
  {
   "cell_type": "code",
   "execution_count": null,
   "metadata": {},
   "outputs": [],
   "source": [
    "try:\n",
    "    a = int(input('Enter a number '))\n",
    "    b = int(input('Enter a number '))\n",
    "    c = a/b\n",
    "    print('c = ',c)\n",
    "except ZeroDivisionError:\n",
    "    print('Error: Denominator is 0')\n",
    "except NameError:\n",
    "    print('Undefined variable')\n",
    "else:\n",
    "    print('No Exception occured.')\n",
    "finally:\n",
    "    print('Program exited successfully')"
   ]
  },
  {
   "cell_type": "code",
   "execution_count": null,
   "metadata": {},
   "outputs": [],
   "source": [
    "# a = 20\n",
    "# b = 3\n",
    "\n",
    "# Output?"
   ]
  }
 ],
 "metadata": {
  "kernelspec": {
   "display_name": "Python 3",
   "language": "python",
   "name": "python3"
  },
  "language_info": {
   "codemirror_mode": {
    "name": "ipython",
    "version": 3
   },
   "file_extension": ".py",
   "mimetype": "text/x-python",
   "name": "python",
   "nbconvert_exporter": "python",
   "pygments_lexer": "ipython3",
   "version": "3.8.5"
  }
 },
 "nbformat": 4,
 "nbformat_minor": 4
}
