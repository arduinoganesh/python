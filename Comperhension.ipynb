{
 "cells": [
  {
   "cell_type": "markdown",
   "metadata": {},
   "source": [
    "# Comprehensions in Python"
   ]
  },
  {
   "cell_type": "code",
   "execution_count": 1,
   "metadata": {},
   "outputs": [],
   "source": [
    "# Advanced tool to create the list/set/dict\n",
    "\n"
   ]
  },
  {
   "cell_type": "code",
   "execution_count": 7,
   "metadata": {},
   "outputs": [
    {
     "name": "stdout",
     "output_type": "stream",
     "text": [
      "[1, 2, 3, 4, 5, 6, 7, 8, 9, 10]\n"
     ]
    }
   ],
   "source": [
    "# List comprehension\n",
    "# lst = [expression for var in sequence[optional for or if]]\n",
    "\n",
    "# Generate a list which contains 1 to 10\n",
    "\n",
    "lst = [n for n in range(1,11)]\n",
    "\n",
    "print(lst)"
   ]
  },
  {
   "cell_type": "code",
   "execution_count": 8,
   "metadata": {},
   "outputs": [
    {
     "name": "stdout",
     "output_type": "stream",
     "text": [
      "[1, 4, 9, 16, 25, 36, 49, 64, 81, 100]\n"
     ]
    }
   ],
   "source": [
    "# Generate a list which contains square of 1 to 10\n",
    "\n",
    "lst1 = [n**2 for n in range(1,11)]\n",
    "\n",
    "print(lst1)"
   ]
  },
  {
   "cell_type": "code",
   "execution_count": 10,
   "metadata": {},
   "outputs": [
    {
     "name": "stdout",
     "output_type": "stream",
     "text": [
      "[2, 4, 6, 8, 10]\n"
     ]
    }
   ],
   "source": [
    "even_list = [var for var in lst if var%2==0]\n",
    "\n",
    "print(even_list)"
   ]
  },
  {
   "cell_type": "code",
   "execution_count": 11,
   "metadata": {},
   "outputs": [
    {
     "name": "stdout",
     "output_type": "stream",
     "text": [
      "[1, 3, 5, 7, 9]\n"
     ]
    }
   ],
   "source": [
    "odd_list = [var for var in lst if var%2==1]\n",
    "\n",
    "print(odd_list)"
   ]
  },
  {
   "cell_type": "code",
   "execution_count": 14,
   "metadata": {},
   "outputs": [
    {
     "name": "stdout",
     "output_type": "stream",
     "text": [
      "[49, 38, 16, 41, 65, 16, 49, 52, 92, 46, 24, 57, 71, 85, 42, 19, 100, 81, 67, 18]\n"
     ]
    }
   ],
   "source": [
    "# Generate 20 random numbers in the range of 10 to 100\n",
    "import random\n",
    "\n",
    "r_list = [random.randint(10,100) for n in range(20)]\n",
    "\n",
    "print(r_list)"
   ]
  },
  {
   "cell_type": "code",
   "execution_count": 17,
   "metadata": {},
   "outputs": [
    {
     "name": "stdout",
     "output_type": "stream",
     "text": [
      "[80, 74, 60, 22, 28, 10, 68, 26, 52]\n"
     ]
    }
   ],
   "source": [
    "import random\n",
    "\n",
    "r_list = [random.randint(10,100) for n in range(20)]\n",
    "\n",
    "even_list = [n for n in r_list if n%2==0]\n",
    "\n",
    "print(even_list)"
   ]
  },
  {
   "cell_type": "code",
   "execution_count": 20,
   "metadata": {},
   "outputs": [
    {
     "name": "stdout",
     "output_type": "stream",
     "text": [
      "[[1, 1], [4, 8], [9, 27], [16, 64], [25, 125], [36, 216], [49, 343], [64, 512], [81, 729]]\n"
     ]
    }
   ],
   "source": [
    "# Generate a square and cube of all numbers between 0 and 10\n",
    "\n",
    "list1 = [[n**2,n**3] for n in range(1,10)]\n",
    "\n",
    "print(list1)"
   ]
  },
  {
   "cell_type": "code",
   "execution_count": 23,
   "metadata": {},
   "outputs": [
    {
     "name": "stdout",
     "output_type": "stream",
     "text": [
      "[1, 2, 3, 5, 10]\n"
     ]
    }
   ],
   "source": [
    "# convert a list of string into list of int\n",
    "\n",
    "lst = ['1','2','3','5','10']\n",
    "\n",
    "lst = [int(n) for n in lst]\n",
    "\n",
    "print(lst)"
   ]
  },
  {
   "cell_type": "code",
   "execution_count": 3,
   "metadata": {},
   "outputs": [
    {
     "name": "stdout",
     "output_type": "stream",
     "text": [
      "Enter the numbers4 5 6\n",
      "<class 'int'>\n"
     ]
    }
   ],
   "source": [
    "lst1 = [int(n) for n in input('Enter the numbers').split()]\n",
    "\n",
    "print(type(lst1[0]))"
   ]
  },
  {
   "cell_type": "code",
   "execution_count": 5,
   "metadata": {},
   "outputs": [
    {
     "name": "stdout",
     "output_type": "stream",
     "text": [
      "[1, 2, 3, 4, 5, 6, 7, 8, 9, 10, 11, 12]\n"
     ]
    }
   ],
   "source": [
    "arr = [[1,2,3,4],[5,6,7,8],[9,10,11,12]]\n",
    "\n",
    "#lst = [1,2,3,4,5,6,7,...12]\n",
    "\n",
    "#list1 = [*arr[0],*arr[1],*arr[2]]\n",
    "\n",
    "list1 = [n for ele in arr for n in ele]\n",
    "print(list1)"
   ]
  },
  {
   "cell_type": "code",
   "execution_count": 7,
   "metadata": {},
   "outputs": [
    {
     "name": "stdout",
     "output_type": "stream",
     "text": [
      "[(1, 2, 3), (1, 3, 2), (2, 1, 3), (2, 3, 1), (3, 1, 2), (3, 2, 1)]\n"
     ]
    }
   ],
   "source": [
    "# print all combinations of 1,2,3\n",
    "\n",
    "my_list = [(x,y,z) for x in [1,2,3] for y in [1,2,3] for z in [1,2,3] if x!=y and y!=z and x!=z]\n",
    "\n",
    "print(my_list)"
   ]
  },
  {
   "cell_type": "code",
   "execution_count": 10,
   "metadata": {},
   "outputs": [
    {
     "name": "stdout",
     "output_type": "stream",
     "text": [
      "{64, 1, 4, 36, 100, 9, 16, 49, 81, 25}\n"
     ]
    }
   ],
   "source": [
    "# set comprehension\n",
    "\n",
    "s = {x**2 for x in range(1,11)}\n",
    "print(s)"
   ]
  },
  {
   "cell_type": "code",
   "execution_count": 11,
   "metadata": {},
   "outputs": [
    {
     "name": "stdout",
     "output_type": "stream",
     "text": [
      "{'a': 1, 'b': 4, 'c': 9, 'd': 16, 'e': 25}\n"
     ]
    }
   ],
   "source": [
    "# Dict comprehension\n",
    "\n",
    "# d = {key:val for (key,val) in dict.items()}\n",
    "\n",
    "d1 = {'a':1,'b':2,'c':3,'d':4,'e':5}\n",
    "\n",
    "d = {key:val**2 for (key,val) in d1.items()}\n",
    "\n",
    "print(d)"
   ]
  },
  {
   "cell_type": "code",
   "execution_count": 12,
   "metadata": {},
   "outputs": [
    {
     "name": "stdout",
     "output_type": "stream",
     "text": [
      "{'d': 64, 'e': 125}\n"
     ]
    }
   ],
   "source": [
    "# obtain a dict with each value cube if value>3\n",
    "\n",
    "d1 = {'a':1,'b':2,'c':3,'d':4,'e':5}\n",
    "\n",
    "d = {k:v**3 for (k,v) in d1.items() if v>3}\n",
    "\n",
    "print(d)"
   ]
  },
  {
   "cell_type": "code",
   "execution_count": 14,
   "metadata": {},
   "outputs": [
    {
     "name": "stdout",
     "output_type": "stream",
     "text": [
      "{'a': 1, 'b': 0, 'c': 1, 'd': 0, 'e': 1, 'f': 0}\n"
     ]
    }
   ],
   "source": [
    "d1 = {'a':1,'b':2,'c':3,'d':4,'e':5,'f':6}\n",
    "\n",
    "# identify odd and even numbers in the dict\n",
    "\n",
    "d = {k:(0 if v%2==0 else 1) for (k,v) in d1.items()}\n",
    "\n",
    "print(d)"
   ]
  },
  {
   "cell_type": "code",
   "execution_count": 15,
   "metadata": {},
   "outputs": [
    {
     "name": "stdout",
     "output_type": "stream",
     "text": [
      "{'a': 1, 'b': 1, 'c': 0, 'd': 1, 'e': 0, 'f': 1}\n"
     ]
    }
   ],
   "source": [
    "d1 = {'a':'Yes','b':'Yes','c':'No','d':'Yes','e':'No','f':'Yes'}\n",
    "\n",
    "# replace Yes by 1 and No by 0\n",
    "\n",
    "\n",
    "d = {k:(1 if v=='Yes' else 0) for (k,v) in d1.items()}\n",
    "\n",
    "print(d)"
   ]
  },
  {
   "cell_type": "code",
   "execution_count": 18,
   "metadata": {},
   "outputs": [
    {
     "name": "stdout",
     "output_type": "stream",
     "text": [
      "['PENAN', 'GANESH', 'MAHESH', 'KIRAN', 'SURESH']\n"
     ]
    }
   ],
   "source": [
    "# convert all these string in list to uppercase\n",
    "\n",
    "name = ['Ganesh','mahesh','suresh','Kiran','Penan','ganesh']\n",
    "\n",
    "name = list({n.upper() for n in name})\n",
    "\n",
    "print(name)"
   ]
  },
  {
   "cell_type": "code",
   "execution_count": 20,
   "metadata": {},
   "outputs": [
    {
     "name": "stdout",
     "output_type": "stream",
     "text": [
      "[37.78, 39.39, 36.94, 38.33, 36.11]\n"
     ]
    }
   ],
   "source": [
    "# list of temp are given in fahrenheit, obtain the new list of temp containing \n",
    "# reading in celcius\n",
    "\n",
    "temp = [100,102.90,98.50,101,97]\n",
    "\n",
    "cel = [round((x-32)*5/9,2) for x in temp]\n",
    "\n",
    "print(cel)"
   ]
  },
  {
   "cell_type": "code",
   "execution_count": 21,
   "metadata": {},
   "outputs": [
    {
     "name": "stdout",
     "output_type": "stream",
     "text": [
      "[2, 3, 4, 5]\n"
     ]
    }
   ],
   "source": [
    "# delete all numbers which is greater than 20\n",
    "\n",
    "list1 = [2,56,78,54,3,4,5,44,23,34,56]\n",
    "\n",
    "list1 = [n for n in list1 if n<=20]\n",
    "\n",
    "print(list1)"
   ]
  },
  {
   "cell_type": "code",
   "execution_count": null,
   "metadata": {},
   "outputs": [],
   "source": []
  }
 ],
 "metadata": {
  "kernelspec": {
   "display_name": "Python 3",
   "language": "python",
   "name": "python3"
  },
  "language_info": {
   "codemirror_mode": {
    "name": "ipython",
    "version": 3
   },
   "file_extension": ".py",
   "mimetype": "text/x-python",
   "name": "python",
   "nbconvert_exporter": "python",
   "pygments_lexer": "ipython3",
   "version": "3.8.5"
  }
 },
 "nbformat": 4,
 "nbformat_minor": 4
}
