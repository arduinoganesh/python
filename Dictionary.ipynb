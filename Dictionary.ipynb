{
 "cells": [
  {
   "cell_type": "markdown",
   "metadata": {},
   "source": [
    "# Dictionary Data Type"
   ]
  },
  {
   "cell_type": "markdown",
   "metadata": {},
   "source": [
    "Dictionary is a collection of key-value pairs. Unlike sequence types, they are indexed by keys\n",
    "\n",
    "Dictionaries are also known as maps or associative arrays\n",
    "\n",
    "Keys in a dictionary must be unique and immutable. So strings or tuples can be used as keys as they are immutable."
   ]
  },
  {
   "cell_type": "code",
   "execution_count": 54,
   "metadata": {},
   "outputs": [
    {
     "name": "stdout",
     "output_type": "stream",
     "text": [
      "{}\n",
      "{'A-1': 'Anil', 'A-2': 'Bhushan', 'A-3': 'Ravi'}\n",
      "{'Marks1': 50, 'Marks2': 50, 'Marks3': 50}\n"
     ]
    }
   ],
   "source": [
    "# ways to create dictionary\n",
    "a = {}   # creates empty dictionary\n",
    "b = {'A-1':'Anil','A-2':'Bhushan','A-3':'Ravi'}   # Dictionary with more than one element\n",
    "list1 = ['Marks1','Marks2','Marks3']\n",
    "e = dict.fromkeys(list1,50)     # keys - list items, all values set to 50\n",
    "print(a)\n",
    "print(b)\n",
    "print(e)"
   ]
  },
  {
   "cell_type": "code",
   "execution_count": 59,
   "metadata": {},
   "outputs": [
    {
     "name": "stdout",
     "output_type": "stream",
     "text": [
      "{1: 'Apple', 2: 'Oneplus', 3: 'Samsung', 4: 'Sony', 5: 'Sony'}\n"
     ]
    }
   ],
   "source": [
    "# Note here, key values in a dictionary are unique, but different keys may have same values paired with them.\n",
    "\n",
    "d1 = {1:'Apple',2:'Oneplus',3:'Samsung',4:'Sony',5:'Sony'}\n",
    "print(d1)"
   ]
  },
  {
   "cell_type": "markdown",
   "metadata": {},
   "source": [
    "### Accessing Dictionary Elements"
   ]
  },
  {
   "cell_type": "code",
   "execution_count": 61,
   "metadata": {
    "collapsed": true
   },
   "outputs": [
    {
     "name": "stdout",
     "output_type": "stream",
     "text": [
      "89\n"
     ]
    }
   ],
   "source": [
    "# Dictionary elements can be accessed using key as a index\n",
    "\n",
    "my_result = {'Marathi':67,'English':89,'Social Science':69,'Mathematics':80}\n",
    "print(my_result['English'])   # prints value for key 'English'"
   ]
  },
  {
   "cell_type": "code",
   "execution_count": 62,
   "metadata": {
    "collapsed": true
   },
   "outputs": [
    {
     "name": "stdout",
     "output_type": "stream",
     "text": [
      "{'Marathi': 67, 'English': 89, 'Social Science': 69, 'Mathematics': 80}\n"
     ]
    }
   ],
   "source": [
    "print(my_result)    # print all key-value pairs"
   ]
  },
  {
   "cell_type": "code",
   "execution_count": 63,
   "metadata": {
    "collapsed": true
   },
   "outputs": [
    {
     "name": "stdout",
     "output_type": "stream",
     "text": [
      "Marathi 67\n",
      "English 89\n",
      "Social Science 69\n",
      "Mathematics 80\n"
     ]
    }
   ],
   "source": [
    "# Dictionary can be iterated over in three ways\n",
    "\n",
    "my_result = {'Marathi':67,'English':89,'Social Science':69,'Mathematics':80}\n",
    "\n",
    "# iterate over the items\n",
    "for sub,marks in my_result.items():\n",
    "    print(sub,marks)"
   ]
  },
  {
   "cell_type": "code",
   "execution_count": 65,
   "metadata": {
    "collapsed": true
   },
   "outputs": [
    {
     "name": "stdout",
     "output_type": "stream",
     "text": [
      "Marathi\n",
      "English\n",
      "Social Science\n",
      "Mathematics\n"
     ]
    }
   ],
   "source": [
    "# iterate over the keys\n",
    "\n",
    "#for k in my_result:\n",
    "#    print(k)\n",
    "    \n",
    "for k in my_result.keys():\n",
    "    print(k)"
   ]
  },
  {
   "cell_type": "code",
   "execution_count": 66,
   "metadata": {
    "collapsed": true
   },
   "outputs": [
    {
     "name": "stdout",
     "output_type": "stream",
     "text": [
      "Marathi 67\n",
      "English 89\n",
      "Social Science 69\n",
      "Mathematics 80\n"
     ]
    }
   ],
   "source": [
    "# can be use this keys to get the values\n",
    "for k in my_result:\n",
    "    print(k,my_result[k])"
   ]
  },
  {
   "cell_type": "code",
   "execution_count": 67,
   "metadata": {
    "collapsed": true
   },
   "outputs": [
    {
     "name": "stdout",
     "output_type": "stream",
     "text": [
      "67\n",
      "89\n",
      "69\n",
      "80\n"
     ]
    }
   ],
   "source": [
    "# iterate over values\n",
    "\n",
    "for marks in my_result.values():\n",
    "    print(marks)"
   ]
  },
  {
   "cell_type": "markdown",
   "metadata": {},
   "source": [
    "### Dictionary Operations"
   ]
  },
  {
   "cell_type": "code",
   "execution_count": 68,
   "metadata": {
    "collapsed": true
   },
   "outputs": [
    {
     "name": "stdout",
     "output_type": "stream",
     "text": [
      "{'Marathi': 67, 'English': 89, 'Social Science': 69, 'Mathematics': 80, 'Computer': 90}\n"
     ]
    }
   ],
   "source": [
    "# Dictionaries are mutable, so we can perform add/delete/modify operations on a dictionary\n",
    "\n",
    "my_result = {'Marathi':67,'English':89,'Social Science':69,'Mathematics':80}\n",
    "\n",
    "## add a new data\n",
    "\n",
    "my_result['Computer']= 90\n",
    "print(my_result)"
   ]
  },
  {
   "cell_type": "code",
   "execution_count": 69,
   "metadata": {
    "collapsed": true
   },
   "outputs": [
    {
     "name": "stdout",
     "output_type": "stream",
     "text": [
      "{'Marathi': 67, 'English': 89, 'Social Science': 69, 'Mathematics': 100, 'Computer': 90}\n"
     ]
    }
   ],
   "source": [
    "## modify the content or value using key\n",
    "\n",
    "my_result['Mathematics'] = 100\n",
    "print(my_result)"
   ]
  },
  {
   "cell_type": "code",
   "execution_count": 70,
   "metadata": {
    "collapsed": true
   },
   "outputs": [
    {
     "name": "stdout",
     "output_type": "stream",
     "text": [
      "{'Marathi': 67, 'Social Science': 69, 'Mathematics': 100, 'Computer': 90}\n"
     ]
    }
   ],
   "source": [
    "## delete a key-value pair\n",
    "\n",
    "del(my_result['English'])\n",
    "print(my_result)"
   ]
  },
  {
   "cell_type": "code",
   "execution_count": 72,
   "metadata": {
    "collapsed": true
   },
   "outputs": [
    {
     "ename": "NameError",
     "evalue": "name 'my_result' is not defined",
     "output_type": "error",
     "traceback": [
      "\u001b[0;31m---------------------------------------------------------------------------\u001b[0m",
      "\u001b[0;31mNameError\u001b[0m                                 Traceback (most recent call last)",
      "\u001b[0;32m<ipython-input-72-f579a3e9995a>\u001b[0m in \u001b[0;36m<module>\u001b[0;34m\u001b[0m\n\u001b[1;32m      1\u001b[0m \u001b[0;31m## delete a dictionary object\u001b[0m\u001b[0;34m\u001b[0m\u001b[0;34m\u001b[0m\u001b[0;34m\u001b[0m\u001b[0m\n\u001b[1;32m      2\u001b[0m \u001b[0;34m\u001b[0m\u001b[0m\n\u001b[0;32m----> 3\u001b[0;31m \u001b[0;32mdel\u001b[0m\u001b[0;34m(\u001b[0m\u001b[0mmy_result\u001b[0m\u001b[0;34m)\u001b[0m\u001b[0;34m\u001b[0m\u001b[0;34m\u001b[0m\u001b[0m\n\u001b[0m\u001b[1;32m      4\u001b[0m \u001b[0mprint\u001b[0m\u001b[0;34m(\u001b[0m\u001b[0mmy_result\u001b[0m\u001b[0;34m)\u001b[0m\u001b[0;34m\u001b[0m\u001b[0;34m\u001b[0m\u001b[0m\n",
      "\u001b[0;31mNameError\u001b[0m: name 'my_result' is not defined"
     ]
    }
   ],
   "source": [
    "## delete a dictionary object\n",
    "\n",
    "del(my_result)\n",
    "print(my_result)"
   ]
  },
  {
   "cell_type": "code",
   "execution_count": 73,
   "metadata": {
    "collapsed": true
   },
   "outputs": [
    {
     "name": "stdout",
     "output_type": "stream",
     "text": [
      "4\n"
     ]
    }
   ],
   "source": [
    "# Common dictionary operations are\n",
    "\n",
    "my_result = {'Marathi':67,'English':89,'Social Science':69,'Mathematics':80}\n",
    "\n",
    "print(len(my_result))    ## return number of key-value pair in dict\n"
   ]
  },
  {
   "cell_type": "code",
   "execution_count": 74,
   "metadata": {
    "collapsed": true
   },
   "outputs": [
    {
     "name": "stdout",
     "output_type": "stream",
     "text": [
      "Social Science\n"
     ]
    }
   ],
   "source": [
    "print(max(my_result))  ## return maximum key"
   ]
  },
  {
   "cell_type": "code",
   "execution_count": 75,
   "metadata": {
    "collapsed": true
   },
   "outputs": [
    {
     "name": "stdout",
     "output_type": "stream",
     "text": [
      "89\n"
     ]
    }
   ],
   "source": [
    "print(max(my_result.values()))  ## return maximum element among values"
   ]
  },
  {
   "cell_type": "code",
   "execution_count": 76,
   "metadata": {
    "collapsed": true
   },
   "outputs": [
    {
     "name": "stdout",
     "output_type": "stream",
     "text": [
      "English\n"
     ]
    }
   ],
   "source": [
    "print(min(my_result))   ## return minimum key"
   ]
  },
  {
   "cell_type": "code",
   "execution_count": 77,
   "metadata": {
    "collapsed": true
   },
   "outputs": [
    {
     "name": "stdout",
     "output_type": "stream",
     "text": [
      "67\n"
     ]
    }
   ],
   "source": [
    "print(min(my_result.values()))    ## return minimum element among values"
   ]
  },
  {
   "cell_type": "code",
   "execution_count": 78,
   "metadata": {
    "collapsed": true
   },
   "outputs": [
    {
     "data": {
      "text/plain": [
       "True"
      ]
     },
     "execution_count": 78,
     "metadata": {},
     "output_type": "execute_result"
    }
   ],
   "source": [
    "# Membership Operator  - in\n",
    "\n",
    "'English' in my_result     ## return True if English key is present in dict"
   ]
  },
  {
   "cell_type": "code",
   "execution_count": 80,
   "metadata": {
    "collapsed": true
   },
   "outputs": [
    {
     "data": {
      "text/plain": [
       "True"
      ]
     },
     "execution_count": 80,
     "metadata": {},
     "output_type": "execute_result"
    }
   ],
   "source": [
    "'Computer' not in my_result    ## return True if Computer key is not present in dict"
   ]
  },
  {
   "cell_type": "code",
   "execution_count": 82,
   "metadata": {
    "collapsed": true
   },
   "outputs": [
    {
     "name": "stdout",
     "output_type": "stream",
     "text": [
      "['Marathi', 'English', 'Social Science', 'Mathematics']\n"
     ]
    }
   ],
   "source": [
    "# To Obtain all keys in list\n",
    "\n",
    "#subject = list(my_result)\n",
    "subject = list(my_result.keys())\n",
    "\n",
    "print(subject)"
   ]
  },
  {
   "cell_type": "code",
   "execution_count": 83,
   "metadata": {
    "collapsed": true
   },
   "outputs": [
    {
     "name": "stdout",
     "output_type": "stream",
     "text": [
      "[67, 89, 69, 80]\n"
     ]
    }
   ],
   "source": [
    "# To Obtain all values in list\n",
    "\n",
    "marks = list(my_result.values())\n",
    "\n",
    "print(marks)"
   ]
  },
  {
   "cell_type": "code",
   "execution_count": 85,
   "metadata": {
    "collapsed": true
   },
   "outputs": [
    {
     "name": "stdout",
     "output_type": "stream",
     "text": [
      "[67, 69, 80, 89]\n"
     ]
    }
   ],
   "source": [
    "# To Obtain sorted list of keys\n",
    "\n",
    "sorted_subjects = sorted(my_result)\n",
    "#sorted_subjects = sorted(my_result.keys())\n",
    "\n",
    "print(sorted_subjects)"
   ]
  },
  {
   "cell_type": "markdown",
   "metadata": {},
   "source": [
    "### Dictionary Methods"
   ]
  },
  {
   "cell_type": "code",
   "execution_count": 86,
   "metadata": {
    "collapsed": true
   },
   "outputs": [
    {
     "name": "stdout",
     "output_type": "stream",
     "text": [
      "{}\n"
     ]
    }
   ],
   "source": [
    "# There are many dictionary methods. \n",
    "# Many of the operations performed by them can also be performed using built-in functions.\n",
    "\n",
    "my_result.clear()     ## clears all dictionary entries\n",
    "\n",
    "print(my_result)"
   ]
  },
  {
   "cell_type": "code",
   "execution_count": 87,
   "metadata": {
    "collapsed": true
   },
   "outputs": [
    {
     "name": "stdout",
     "output_type": "stream",
     "text": [
      "{'Marathi': 67, 'English': 89, 'Social Science': 69, 'Mathematics': 80, 'Computer': 90, 'Science-I': 88}\n"
     ]
    }
   ],
   "source": [
    "my_result = {'Marathi':67,'English':89,'Social Science':69,'Mathematics':80}\n",
    "d = {'Computer':90,'Science-I':88}\n",
    "\n",
    "my_result.update(d)    ## adds dictionary entries in dictionary d to dictionary my_result\n",
    "\n",
    "print(my_result)"
   ]
  },
  {
   "cell_type": "markdown",
   "metadata": {},
   "source": [
    "### Nested Dictionary"
   ]
  },
  {
   "cell_type": "code",
   "execution_count": 89,
   "metadata": {
    "collapsed": true
   },
   "outputs": [
    {
     "name": "stdout",
     "output_type": "stream",
     "text": [
      "{'Anil': {'Roll No': 1, 'Age': 19, 'Marks': 78.9}, 'Sunil': {'Roll No': 2, 'Age': 20, 'Marks': 80.45}, 'John': {'Roll No': 3, 'Age': 18, 'Marks': 70.0}}\n",
      "3\n"
     ]
    }
   ],
   "source": [
    "classroom = {\n",
    "    'Anil':{'Roll No':1,'Age':19,'Marks':78.90},\n",
    "    'Sunil':{'Roll No':2,'Age':20,'Marks':80.45},\n",
    "    'John':{'Roll No':3,'Age':18,'Marks':70.00}\n",
    "}\n",
    "\n",
    "## We can store the Dictionary in the Dictionary also\n",
    "print(classroom)\n",
    "print(len(classroom))"
   ]
  },
  {
   "cell_type": "code",
   "execution_count": 51,
   "metadata": {},
   "outputs": [
    {
     "name": "stdout",
     "output_type": "stream",
     "text": [
      "20\n"
     ]
    }
   ],
   "source": [
    "# Write a code to get the Age of Sunil from the above dictionary\n"
   ]
  },
  {
   "cell_type": "markdown",
   "metadata": {},
   "source": [
    "# BEST OF LUCK"
   ]
  },
  {
   "cell_type": "code",
   "execution_count": null,
   "metadata": {
    "collapsed": true
   },
   "outputs": [],
   "source": []
  }
 ],
 "metadata": {
  "kernelspec": {
   "display_name": "Python 3",
   "language": "python",
   "name": "python3"
  },
  "language_info": {
   "codemirror_mode": {
    "name": "ipython",
    "version": 3
   },
   "file_extension": ".py",
   "mimetype": "text/x-python",
   "name": "python",
   "nbconvert_exporter": "python",
   "pygments_lexer": "ipython3",
   "version": "3.8.5"
  }
 },
 "nbformat": 4,
 "nbformat_minor": 4
}
