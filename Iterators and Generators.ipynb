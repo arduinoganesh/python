{
 "cells": [
  {
   "cell_type": "markdown",
   "metadata": {},
   "source": [
    "# Iterators and Generators\n",
    "\n",
    "> An Object is called iterable if it is capable of running its members one at a time. Containers like string, list, tuple are iterables.\n",
    "\n",
    "> Iterator is an object which is used to iterate over an iterable. An iterable entity is always provides an iterator object.\n",
    "\n",
    "> Iterators are implemented in for loops, comprehensions, generators, etc\n"
   ]
  },
  {
   "cell_type": "markdown",
   "metadata": {},
   "source": [
    "### zip( ) Function - It typically receives multiple iterable objects and returns an iterator of tuples based on them. "
   ]
  },
  {
   "cell_type": "code",
   "execution_count": null,
   "metadata": {},
   "outputs": [],
   "source": [
    "words = ['one','two','three','four']\n",
    "numbers = [1,2,3,4]\n"
   ]
  },
  {
   "cell_type": "code",
   "execution_count": null,
   "metadata": {},
   "outputs": [],
   "source": [
    "for ele in zip(words,numbers):\n",
    "    print(type(ele))\n",
    "    print(ele[0],ele[1])"
   ]
  },
  {
   "cell_type": "code",
   "execution_count": null,
   "metadata": {},
   "outputs": [],
   "source": [
    "for ele in zip(words,numbers):\n",
    "    print(*ele)"
   ]
  },
  {
   "cell_type": "code",
   "execution_count": null,
   "metadata": {},
   "outputs": [],
   "source": [
    "for w,n in zip(words,numbers):\n",
    "    print(w,n)"
   ]
  },
  {
   "cell_type": "markdown",
   "metadata": {},
   "source": [
    "A list can be also be generate from the iterator of tuples which is returns by zip( )"
   ]
  },
  {
   "cell_type": "code",
   "execution_count": null,
   "metadata": {},
   "outputs": [],
   "source": [
    "words = ['one','two','three','four']\n",
    "numbers = [1,2,3,4]"
   ]
  },
  {
   "cell_type": "code",
   "execution_count": null,
   "metadata": {},
   "outputs": [],
   "source": [
    "it = zip(words,numbers)\n",
    "my_list = list(it)\n"
   ]
  },
  {
   "cell_type": "code",
   "execution_count": null,
   "metadata": {},
   "outputs": [],
   "source": [
    "print(my_list)"
   ]
  },
  {
   "cell_type": "markdown",
   "metadata": {},
   "source": [
    "The Values can be unzipped from the list into tuples using *"
   ]
  },
  {
   "cell_type": "code",
   "execution_count": null,
   "metadata": {},
   "outputs": [],
   "source": [
    "w,n = zip(*my_list)\n",
    "print(w)\n",
    "print(n)"
   ]
  },
  {
   "cell_type": "markdown",
   "metadata": {},
   "source": [
    "## Iterators:  \n",
    "We know that containers objects like string,list,tuple,set,dictionary, etc can be iterated using a for loop as in"
   ]
  },
  {
   "cell_type": "code",
   "execution_count": 11,
   "metadata": {},
   "outputs": [
    {
     "name": "stdout",
     "output_type": "stream",
     "text": [
      "G\n",
      "o\n",
      "o\n",
      "d\n",
      " \n",
      "M\n",
      "o\n",
      "r\n",
      "n\n",
      "i\n",
      "n\n",
      "g\n"
     ]
    }
   ],
   "source": [
    "for ch in 'Good Morning':\n",
    "    print(ch)"
   ]
  },
  {
   "cell_type": "code",
   "execution_count": 14,
   "metadata": {},
   "outputs": [
    {
     "name": "stdout",
     "output_type": "stream",
     "text": [
      "1\n",
      "2\n",
      "3\n",
      "4\n",
      "5\n",
      "6\n"
     ]
    }
   ],
   "source": [
    "for num in [1,2,3,4,5,6]:\n",
    "    print(num)"
   ]
  },
  {
   "cell_type": "code",
   "execution_count": null,
   "metadata": {},
   "outputs": [],
   "source": [
    "# In above code, for loops call __iter__( ) method of str/list. \n",
    "\n",
    "# This method returns an iterator object. \n",
    "\n",
    "# Every iterator object has a method __next__( ) which returns the next item in the str/list container.\n"
   ]
  },
  {
   "cell_type": "code",
   "execution_count": null,
   "metadata": {},
   "outputs": [],
   "source": [
    "# We can also call __iter__() and __next__() and get the same result"
   ]
  },
  {
   "cell_type": "code",
   "execution_count": 18,
   "metadata": {},
   "outputs": [
    {
     "name": "stdout",
     "output_type": "stream",
     "text": [
      "1\n",
      "2\n",
      "3\n",
      "4\n",
      "5\n",
      "6\n"
     ]
    }
   ],
   "source": [
    "my_list1 = [1,2,3,4,5,6]\n",
    "i = my_list1.__iter__()\n",
    "print(i.__next__())\n",
    "print(i.__next__())\n",
    "print(i.__next__())\n",
    "print(i.__next__())\n",
    "print(i.__next__())\n",
    "print(i.__next__())"
   ]
  },
  {
   "cell_type": "code",
   "execution_count": null,
   "metadata": {},
   "outputs": [],
   "source": [
    "# Instead of calling __iter__( ) and __next__( ), we can call the more convenient iter( ) and next( ). \n",
    "\n",
    "# These functions in turn call __iter__() and __next__() respectively.\n"
   ]
  },
  {
   "cell_type": "code",
   "execution_count": 21,
   "metadata": {},
   "outputs": [
    {
     "name": "stdout",
     "output_type": "stream",
     "text": [
      "1\n",
      "2\n",
      "3\n",
      "4\n",
      "5\n"
     ]
    },
    {
     "ename": "StopIteration",
     "evalue": "",
     "output_type": "error",
     "traceback": [
      "\u001b[0;31m---------------------------------------------------------------------------\u001b[0m",
      "\u001b[0;31mStopIteration\u001b[0m                             Traceback (most recent call last)",
      "\u001b[0;32m<ipython-input-21-35d31d80b377>\u001b[0m in \u001b[0;36m<module>\u001b[0;34m\u001b[0m\n\u001b[1;32m      8\u001b[0m \u001b[0;34m\u001b[0m\u001b[0m\n\u001b[1;32m      9\u001b[0m \u001b[0;31m#i = iter(my_list1)\u001b[0m\u001b[0;34m\u001b[0m\u001b[0;34m\u001b[0m\u001b[0;34m\u001b[0m\u001b[0m\n\u001b[0;32m---> 10\u001b[0;31m \u001b[0mprint\u001b[0m\u001b[0;34m(\u001b[0m\u001b[0mnext\u001b[0m\u001b[0;34m(\u001b[0m\u001b[0mi\u001b[0m\u001b[0;34m)\u001b[0m\u001b[0;34m)\u001b[0m\u001b[0;34m\u001b[0m\u001b[0;34m\u001b[0m\u001b[0m\n\u001b[0m\u001b[1;32m     11\u001b[0m \u001b[0mprint\u001b[0m\u001b[0;34m(\u001b[0m\u001b[0mnext\u001b[0m\u001b[0;34m(\u001b[0m\u001b[0mi\u001b[0m\u001b[0;34m)\u001b[0m\u001b[0;34m)\u001b[0m\u001b[0;34m\u001b[0m\u001b[0;34m\u001b[0m\u001b[0m\n\u001b[1;32m     12\u001b[0m \u001b[0mprint\u001b[0m\u001b[0;34m(\u001b[0m\u001b[0mnext\u001b[0m\u001b[0;34m(\u001b[0m\u001b[0mi\u001b[0m\u001b[0;34m)\u001b[0m\u001b[0;34m)\u001b[0m\u001b[0;34m\u001b[0m\u001b[0;34m\u001b[0m\u001b[0m\n",
      "\u001b[0;31mStopIteration\u001b[0m: "
     ]
    }
   ],
   "source": [
    "my_list1 = [1,2,3,4,5]\n",
    "i = iter(my_list1)\n",
    "print(next(i))\n",
    "print(next(i))\n",
    "print(next(i))\n",
    "print(next(i))\n",
    "print(next(i))\n",
    "\n"
   ]
  },
  {
   "cell_type": "code",
   "execution_count": null,
   "metadata": {},
   "outputs": [],
   "source": [
    "# Here note that, once we have iterated a container, \n",
    "# if we wish to iterate it again, \n",
    "# we have to obtain an iterator object afresh"
   ]
  },
  {
   "cell_type": "code",
   "execution_count": null,
   "metadata": {},
   "outputs": [],
   "source": [
    "# Here One point to remeber is that, \n",
    "# Iterable contains __iter__( ), \n",
    "# whereas an iterator contains both __iter__( ) and __next__( ), \n",
    "# we can check it using the hasattr() global function"
   ]
  },
  {
   "cell_type": "code",
   "execution_count": 22,
   "metadata": {},
   "outputs": [
    {
     "name": "stdout",
     "output_type": "stream",
     "text": [
      "True\n",
      "False\n",
      "True\n",
      "False\n",
      "True\n",
      "True\n",
      "True\n",
      "True\n"
     ]
    }
   ],
   "source": [
    "my_string = 'Hello'\n",
    "my_list2 = ['I','Love','Python']\n",
    "print(hasattr(my_string,'__iter__'))  # True\n",
    "print(hasattr(my_string,'__next__'))  # False\n",
    "print(hasattr(my_list2,'__iter__'))   # True\n",
    "print(hasattr(my_list2,'__next__'))   # False\n",
    "\n",
    "i = iter(my_string)\n",
    "j = iter(my_list2)\n",
    "print(hasattr(i,'__iter__'))  # True\n",
    "print(hasattr(i,'__next__'))  # True\n",
    "print(hasattr(j,'__iter__'))  # True\n",
    "print(hasattr(j,'__next__'))  # True"
   ]
  },
  {
   "cell_type": "markdown",
   "metadata": {},
   "source": [
    "### Generators"
   ]
  },
  {
   "cell_type": "code",
   "execution_count": null,
   "metadata": {},
   "outputs": [],
   "source": [
    "# Generators are very efficient functions that create iterators. \n",
    "# They use yield statement instead of return whenever they wish to return data from the function.\n",
    "# Speciality of a generators is that, it remembers the state of the function and the last statement it had\n",
    "# executed when yield was executed.\n",
    "# So, each time, next() is called, it resumes where it has left off last time.\n",
    "\n",
    "# Generators can be used in place of class-based iterator that we saw in last video.\n",
    "# Generators are very compact because the __iter__(), __next__() and \n",
    "#       StopIteration code is created automatically for them.\n",
    "\n"
   ]
  },
  {
   "cell_type": "code",
   "execution_count": 23,
   "metadata": {},
   "outputs": [
    {
     "name": "stdout",
     "output_type": "stream",
     "text": [
      "15.0\n",
      "25.0\n",
      "35.0\n",
      "45.0\n",
      "55.0\n"
     ]
    }
   ],
   "source": [
    "# Write a Generator Function which will generate average of a number and next number in given series.\n",
    "\n",
    "def average(data):\n",
    "    for i in range(0,len(data)-1):\n",
    "        yield (data[i]+data[i+1])/2\n",
    "\n",
    "lst = [10,20,30,40,50,60]\n",
    "for avg in average(lst):\n",
    "    print(avg)"
   ]
  },
  {
   "cell_type": "markdown",
   "metadata": {},
   "source": [
    "### Generator Expressions"
   ]
  },
  {
   "cell_type": "code",
   "execution_count": 26,
   "metadata": {},
   "outputs": [
    {
     "name": "stdout",
     "output_type": "stream",
     "text": [
      "97\n"
     ]
    }
   ],
   "source": [
    "# A Generator expression creates a generator on the fly without being required to use the yield statement.\n",
    "# eg. Generate  20 random numbers in the range 10 and 100 and obtain max of it.\n",
    "\n",
    "import random\n",
    "print(max(random.randint(10,100) for n in range(20)))"
   ]
  },
  {
   "cell_type": "code",
   "execution_count": 27,
   "metadata": {},
   "outputs": [
    {
     "name": "stdout",
     "output_type": "stream",
     "text": [
      "36100\n"
     ]
    }
   ],
   "source": [
    "# e.g. print sum of cubes of all numbers less than 20\n",
    "\n",
    "print(sum(n*n*n for n in range(20)))"
   ]
  },
  {
   "cell_type": "code",
   "execution_count": null,
   "metadata": {},
   "outputs": [],
   "source": [
    "# Here, point to remember is that, \n",
    "# List Comprehension are enclosed within [ ],\n",
    "# Set Comprehension are enclosed within { },\n",
    "# whereas, generator expression are enclosed within ( )\n",
    "\n",
    "# Since List Comprehension returns the list, it consumes more memory than a generator expression.\n",
    "# Generator expression takes less memory since it generates the next element on demand, rather than \n",
    "#     generating all elements at one time.\n",
    "\n"
   ]
  },
  {
   "cell_type": "code",
   "execution_count": 28,
   "metadata": {},
   "outputs": [
    {
     "name": "stdout",
     "output_type": "stream",
     "text": [
      "[0, 1, 4, 9, 16, 25, 36, 49, 64, 81, 100, 121, 144, 169, 196]\n",
      "<generator object <genexpr> at 0x7f8615d2af90>\n",
      "184\n",
      "112\n"
     ]
    }
   ],
   "source": [
    "import sys\n",
    "lst = [i*i for i in range(15)]\n",
    "gen = (i*i for i in range(15))\n",
    "\n",
    "print(lst)   # Print List\n",
    "print(gen)   # Print the object memory address\n",
    "\n",
    "print(sys.getsizeof(lst))\n",
    "print(sys.getsizeof(gen))"
   ]
  },
  {
   "cell_type": "code",
   "execution_count": null,
   "metadata": {},
   "outputs": [],
   "source": []
  }
 ],
 "metadata": {
  "kernelspec": {
   "display_name": "Python 3",
   "language": "python",
   "name": "python3"
  },
  "language_info": {
   "codemirror_mode": {
    "name": "ipython",
    "version": 3
   },
   "file_extension": ".py",
   "mimetype": "text/x-python",
   "name": "python",
   "nbconvert_exporter": "python",
   "pygments_lexer": "ipython3",
   "version": "3.8.5"
  }
 },
 "nbformat": 4,
 "nbformat_minor": 4
}
