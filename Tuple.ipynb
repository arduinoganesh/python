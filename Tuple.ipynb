{
 "cells": [
  {
   "cell_type": "markdown",
   "metadata": {},
   "source": [
    "### Tuples are typically used for handling heterogeneous data.\n",
    "\n",
    "The heterogeneous data is enclosed with ()\n",
    "\n",
    "Generally, Tuples are same a List but List is mutable means we can change or modify the items of list,\n",
    "But Tuple is immutable. So one can call the tuple as a constant list.\n",
    "\n"
   ]
  },
  {
   "cell_type": "code",
   "execution_count": 31,
   "metadata": {
    "collapsed": true
   },
   "outputs": [],
   "source": [
    "a = ()     # Creates a Empty Tuple\n",
    "b = (10,)  # tuple with one item,  comma after the 10 is necessary"
   ]
  },
  {
   "cell_type": "code",
   "execution_count": 64,
   "metadata": {},
   "outputs": [
    {
     "name": "stdout",
     "output_type": "stream",
     "text": [
      "<class 'tuple'>\n"
     ]
    }
   ],
   "source": [
    "# if comma is not given then,\n",
    "c = (10,)\n",
    "print(type(c))\n",
    "# type of c is int not a tuple"
   ]
  },
  {
   "cell_type": "code",
   "execution_count": 65,
   "metadata": {},
   "outputs": [],
   "source": [
    "d = ('John',30,67.90)   # tuple with multiple items\n"
   ]
  },
  {
   "cell_type": "code",
   "execution_count": 66,
   "metadata": {},
   "outputs": [
    {
     "name": "stdout",
     "output_type": "stream",
     "text": [
      "<class 'tuple'>\n"
     ]
    }
   ],
   "source": [
    "# while initalizing a tuple, we may drop ()\n",
    "d = 'John',30,78.90\n",
    "print(type(d))"
   ]
  },
  {
   "cell_type": "code",
   "execution_count": 67,
   "metadata": {},
   "outputs": [
    {
     "name": "stdout",
     "output_type": "stream",
     "text": [
      "('J', 'o', 'h', 'n', ' ', 'W', 'i', 'c', 'k')\n",
      "(10, 20, 30, 40, 50)\n",
      "(0, 1, 4, 9, 16)\n",
      "(0, 1, 2, 3, 4)\n"
     ]
    }
   ],
   "source": [
    "# To create the Tuples, we can use built-in function tuple().\n",
    "\n",
    "tpl1 = tuple('John Wick')\n",
    "tpl2 = tuple([10,20,30,40,50])\n",
    "tpl3 = tuple((x**2) for x in range(5))\n",
    "tpl4 = tuple(range(5))\n",
    "print(tpl1)\n",
    "print(tpl2)\n",
    "print(tpl3)\n",
    "print(tpl4)"
   ]
  },
  {
   "cell_type": "markdown",
   "metadata": {},
   "source": [
    "### Accessing Tuple Elements"
   ]
  },
  {
   "cell_type": "code",
   "execution_count": 68,
   "metadata": {},
   "outputs": [
    {
     "name": "stdout",
     "output_type": "stream",
     "text": [
      "Temp\n",
      "High\n"
     ]
    }
   ],
   "source": [
    "# Like String and List, tuple items too can be accessed using indices, as all of them are sequence type\n",
    "\n",
    "msg = ('Temp','is','High')\n",
    "print(msg[0])\n",
    "print(msg[2])"
   ]
  },
  {
   "cell_type": "code",
   "execution_count": 69,
   "metadata": {},
   "outputs": [
    {
     "name": "stdout",
     "output_type": "stream",
     "text": [
      "('is', 'High')\n"
     ]
    }
   ],
   "source": [
    "# Like Strings and Lists, Tuples too can be sliced to yeild smaller tuples\n",
    "print(msg[1:3])"
   ]
  },
  {
   "cell_type": "code",
   "execution_count": null,
   "metadata": {
    "collapsed": true
   },
   "outputs": [],
   "source": [
    "# Entire tuple can be printed by just using the name of the tuple.\n",
    "tp = ('John',30,67.90)\n",
    "print(tp)"
   ]
  },
  {
   "cell_type": "code",
   "execution_count": 70,
   "metadata": {},
   "outputs": [
    {
     "name": "stdout",
     "output_type": "stream",
     "text": [
      "10 20 30 40 50 "
     ]
    }
   ],
   "source": [
    "# Like Strings and Lists, tuples too can be iterated using a for loop\n",
    "\n",
    "tpl = (10,20,30,40,50)\n",
    "for n in tpl:\n",
    "    print(n,end=\" \")"
   ]
  },
  {
   "cell_type": "markdown",
   "metadata": {},
   "source": [
    "### Tuple Operations"
   ]
  },
  {
   "cell_type": "code",
   "execution_count": 71,
   "metadata": {},
   "outputs": [
    {
     "ename": "TypeError",
     "evalue": "'tuple' object does not support item assignment",
     "output_type": "error",
     "traceback": [
      "\u001b[0;31m---------------------------------------------------------------------------\u001b[0m",
      "\u001b[0;31mTypeError\u001b[0m                                 Traceback (most recent call last)",
      "\u001b[0;32m<ipython-input-71-dd2b35cc8884>\u001b[0m in \u001b[0;36m<module>\u001b[0;34m\u001b[0m\n\u001b[1;32m      2\u001b[0m \u001b[0;34m\u001b[0m\u001b[0m\n\u001b[1;32m      3\u001b[0m \u001b[0mtpl\u001b[0m \u001b[0;34m=\u001b[0m \u001b[0;34m(\u001b[0m\u001b[0;36m10\u001b[0m\u001b[0;34m,\u001b[0m\u001b[0;36m20\u001b[0m\u001b[0;34m,\u001b[0m\u001b[0;36m30\u001b[0m\u001b[0;34m,\u001b[0m\u001b[0;36m40\u001b[0m\u001b[0;34m,\u001b[0m\u001b[0;36m50\u001b[0m\u001b[0;34m)\u001b[0m\u001b[0;34m\u001b[0m\u001b[0;34m\u001b[0m\u001b[0m\n\u001b[0;32m----> 4\u001b[0;31m \u001b[0mtpl\u001b[0m\u001b[0;34m[\u001b[0m\u001b[0;36m0\u001b[0m\u001b[0;34m]\u001b[0m \u001b[0;34m=\u001b[0m \u001b[0;36m100\u001b[0m   \u001b[0;31m# Error\u001b[0m\u001b[0;34m\u001b[0m\u001b[0;34m\u001b[0m\u001b[0m\n\u001b[0m",
      "\u001b[0;31mTypeError\u001b[0m: 'tuple' object does not support item assignment"
     ]
    }
   ],
   "source": [
    "# Unlike lists, tuples are immutable\n",
    "\n",
    "tpl = (10,20,30,40,50)\n",
    "tpl[0] = 100   # Error"
   ]
  },
  {
   "cell_type": "code",
   "execution_count": 72,
   "metadata": {},
   "outputs": [
    {
     "ename": "TypeError",
     "evalue": "'tuple' object does not support item assignment",
     "output_type": "error",
     "traceback": [
      "\u001b[0;31m---------------------------------------------------------------------------\u001b[0m",
      "\u001b[0;31mTypeError\u001b[0m                                 Traceback (most recent call last)",
      "\u001b[0;32m<ipython-input-72-f9c175ed62d2>\u001b[0m in \u001b[0;36m<module>\u001b[0;34m\u001b[0m\n\u001b[0;32m----> 1\u001b[0;31m \u001b[0mtpl\u001b[0m\u001b[0;34m[\u001b[0m\u001b[0;36m1\u001b[0m\u001b[0;34m:\u001b[0m\u001b[0;36m3\u001b[0m\u001b[0;34m]\u001b[0m \u001b[0;34m=\u001b[0m \u001b[0;34m(\u001b[0m\u001b[0;36m300\u001b[0m\u001b[0;34m,\u001b[0m\u001b[0;36m400\u001b[0m\u001b[0;34m)\u001b[0m   \u001b[0;31m# Error\u001b[0m\u001b[0;34m\u001b[0m\u001b[0;34m\u001b[0m\u001b[0m\n\u001b[0m",
      "\u001b[0;31mTypeError\u001b[0m: 'tuple' object does not support item assignment"
     ]
    }
   ],
   "source": [
    "tpl[1:3] = (300,400)   # Error"
   ]
  },
  {
   "cell_type": "code",
   "execution_count": 74,
   "metadata": {},
   "outputs": [],
   "source": [
    "# Tuples can contain mutable objects like lists\n",
    "# immutable string- all can belong to tuple\n",
    "\n",
    "s = ([1,2,3,4],\"Titanic\")\n"
   ]
  },
  {
   "cell_type": "code",
   "execution_count": 73,
   "metadata": {},
   "outputs": [
    {
     "name": "stdout",
     "output_type": "stream",
     "text": [
      "(10, 20, 30, 40, 30, 30)\n"
     ]
    }
   ],
   "source": [
    "# Items in a tuple can be repeated, ie tuple may contain duplicate items.\n",
    "tpl = (10,20,30,40,30,30)\n",
    "print(tpl)"
   ]
  },
  {
   "cell_type": "code",
   "execution_count": 76,
   "metadata": {},
   "outputs": [
    {
     "name": "stdout",
     "output_type": "stream",
     "text": [
      "False\n",
      "True\n",
      "6\n"
     ]
    }
   ],
   "source": [
    "tpl = (10,20,30,40,50,60)\n",
    "print(100 in tpl)      # returns True Since 20 is present in tuple tpl\n",
    "print(22 not in tpl)  # return False Since 22 is not present in tuple tpl\n",
    "print(len(tpl))       # return number of items in tuple tpl"
   ]
  },
  {
   "cell_type": "code",
   "execution_count": 77,
   "metadata": {},
   "outputs": [
    {
     "name": "stdout",
     "output_type": "stream",
     "text": [
      "('A', 'f', 'r', 'i', 'c', 'a')\n"
     ]
    }
   ],
   "source": [
    "t = tuple('Africa')   # converts the string to tuple\n",
    "print(t)"
   ]
  },
  {
   "cell_type": "code",
   "execution_count": 78,
   "metadata": {},
   "outputs": [
    {
     "name": "stdout",
     "output_type": "stream",
     "text": [
      "76\n",
      "4\n",
      "[4, 13, 32, 34, 45, 56, 76]\n",
      "260\n",
      "3\n"
     ]
    }
   ],
   "source": [
    "t = (4,32,56,13,45,76,34)\n",
    "print(max(t))     # return maximum element in tuple t\n",
    "print(min(t))     # return minimum element in tuple t\n",
    "print(sorted(t))  # return sorted tuple, t remains unchanged\n",
    "print(sum(t))     # return sum of all elements in tuple t\n",
    "print(t.index(13)) # return index of item 13"
   ]
  },
  {
   "cell_type": "code",
   "execution_count": 79,
   "metadata": {},
   "outputs": [
    {
     "name": "stdout",
     "output_type": "stream",
     "text": [
      "2\n"
     ]
    }
   ],
   "source": [
    "t = (4,32,56,47,45,32,34)\n",
    "print(t.count(32))"
   ]
  },
  {
   "cell_type": "code",
   "execution_count": 22,
   "metadata": {
    "collapsed": true
   },
   "outputs": [],
   "source": [
    "# Since, tuples are immutable, operations like append, remove and insert do not work with tuple."
   ]
  },
  {
   "cell_type": "code",
   "execution_count": 80,
   "metadata": {},
   "outputs": [
    {
     "name": "stdout",
     "output_type": "stream",
     "text": [
      "(1, 2, 3, 4, 5, 6, 7, 8)\n",
      "(1, 2, 3, 4, 10, 20, 30)\n"
     ]
    }
   ],
   "source": [
    "# It is possible to concate two tuples. This can be done in multiple ways as shown below\n",
    "t1 = (1,2,3,4)\n",
    "t2 = (5,6,7,8)\n",
    "# tuples can be concatenated to create a new tuple\n",
    "t3 = t1 + t2             # t3 is now (1,2,3,4,5,6,7,8)\n",
    "t4 = t1 + (10,20,30)     # t4 is now (1,2,3,4,10,20,30)   \n",
    "print(t3)\n",
    "print(t4)"
   ]
  },
  {
   "cell_type": "code",
   "execution_count": 81,
   "metadata": {},
   "outputs": [
    {
     "name": "stdout",
     "output_type": "stream",
     "text": [
      "(1, 2, 3, 4, 5, 6, 7, 8)\n"
     ]
    }
   ],
   "source": [
    "# Tuple individual element cannot be changed, but t1 can be made to refer to a new tuple\n",
    "\n",
    "t1 = t1 + t2\n",
    "print(t1)"
   ]
  },
  {
   "cell_type": "code",
   "execution_count": 82,
   "metadata": {},
   "outputs": [
    {
     "name": "stdout",
     "output_type": "stream",
     "text": [
      "(1, 2, 3, 4, 5, 6, 7, 8)\n"
     ]
    }
   ],
   "source": [
    "# Tuple can be unpacked like lists\n",
    "t1 = (1,2,3,4)\n",
    "t2 = (5,6,7,8)\n",
    "t5 = (*t1,*t2)   #  t5 = (1,2,3,4,5,6,7,8)\n",
    "print(t5)"
   ]
  },
  {
   "cell_type": "code",
   "execution_count": 83,
   "metadata": {},
   "outputs": [
    {
     "name": "stdout",
     "output_type": "stream",
     "text": [
      "((1, 2, 3, 4), (5, 6, 7, 8))\n"
     ]
    }
   ],
   "source": [
    "# But if we use, t1 and t2 without *, then\n",
    "t6 = (t1,t2)\n",
    "print(t6)"
   ]
  },
  {
   "cell_type": "code",
   "execution_count": 84,
   "metadata": {},
   "outputs": [
    {
     "name": "stdout",
     "output_type": "stream",
     "text": [
      "('i', 'a', 'b', 'm', 'u', 'M')\n"
     ]
    }
   ],
   "source": [
    "# It is possible to reverse a tuple.\n",
    "# Tupple being immutable, this is not in-place reversal.\n",
    "# Reversal can be done in two ways shown below,\n",
    "\n",
    "t1 = tuple('Mumbai')\n",
    "t1 = tuple(reversed(t1))\n",
    "print(t1)"
   ]
  },
  {
   "cell_type": "code",
   "execution_count": 85,
   "metadata": {},
   "outputs": [
    {
     "name": "stdout",
     "output_type": "stream",
     "text": [
      "('i', 'a', 'b', 'm', 'u', 'M')\n"
     ]
    }
   ],
   "source": [
    "# OR\n",
    "t1 = tuple('Mumbai')\n",
    "t1 = t1[::-1]\n",
    "print(t1)"
   ]
  },
  {
   "cell_type": "code",
   "execution_count": 89,
   "metadata": {},
   "outputs": [
    {
     "name": "stdout",
     "output_type": "stream",
     "text": [
      "False\n"
     ]
    }
   ],
   "source": [
    "# It is possible to compare two tuples. Comparision is done item by item till there is a mismatch.\n",
    "\n",
    "print((10,20,40)<(10,20,30))"
   ]
  },
  {
   "cell_type": "markdown",
   "metadata": {},
   "source": [
    "## More on Tuple"
   ]
  },
  {
   "cell_type": "code",
   "execution_count": 90,
   "metadata": {},
   "outputs": [
    {
     "name": "stdout",
     "output_type": "stream",
     "text": [
      "((1, 2, 3, 4, 5), (5, 6, 7, 8))\n"
     ]
    }
   ],
   "source": [
    "# It is possible to create a tuple of tuples.\n",
    "a = (1,2,3,4,5)\n",
    "b = (5,6,7,8)\n",
    "c = (a,b)\n",
    "print(c)"
   ]
  },
  {
   "cell_type": "code",
   "execution_count": null,
   "metadata": {
    "collapsed": true
   },
   "outputs": [],
   "source": [
    "print(c[1][2])   # Which Element get printed?"
   ]
  },
  {
   "cell_type": "code",
   "execution_count": 91,
   "metadata": {},
   "outputs": [
    {
     "name": "stdout",
     "output_type": "stream",
     "text": [
      "(10, 20, (1, 2, 3, 4), 30)\n"
     ]
    }
   ],
   "source": [
    "# A Tuple may be embedded in another tuple\n",
    "x = (1,2,3,4)\n",
    "y = (10,20,x,30)\n",
    "print(y)"
   ]
  },
  {
   "cell_type": "code",
   "execution_count": 92,
   "metadata": {},
   "outputs": [
    {
     "name": "stdout",
     "output_type": "stream",
     "text": [
      "(10, 20, 1, 2, 3, 4, 30)\n"
     ]
    }
   ],
   "source": [
    "# It is possible to unpack a tuple within a tuple using * operator\n",
    "x = (1,2,3,4)\n",
    "y = (10,20,*x,30)\n",
    "print(y)"
   ]
  },
  {
   "cell_type": "code",
   "execution_count": 93,
   "metadata": {},
   "outputs": [
    {
     "name": "stdout",
     "output_type": "stream",
     "text": [
      "8 1\n"
     ]
    }
   ],
   "source": [
    "# Ex - Pass a Tuple to the divmod function and obtain the quotient and remainder\n",
    "t1 = (25,3)\n",
    "q,r = divmod(*t1)\n",
    "print(q,r)"
   ]
  },
  {
   "cell_type": "markdown",
   "metadata": {},
   "source": [
    "# BEST OF LUCK"
   ]
  },
  {
   "cell_type": "code",
   "execution_count": null,
   "metadata": {
    "collapsed": true
   },
   "outputs": [],
   "source": []
  }
 ],
 "metadata": {
  "kernelspec": {
   "display_name": "Python 3",
   "language": "python",
   "name": "python3"
  },
  "language_info": {
   "codemirror_mode": {
    "name": "ipython",
    "version": 3
   },
   "file_extension": ".py",
   "mimetype": "text/x-python",
   "name": "python",
   "nbconvert_exporter": "python",
   "pygments_lexer": "ipython3",
   "version": "3.8.5"
  }
 },
 "nbformat": 4,
 "nbformat_minor": 4
}
