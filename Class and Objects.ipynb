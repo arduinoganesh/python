{
 "cells": [
  {
   "cell_type": "markdown",
   "metadata": {},
   "source": [
    "# Object Oriented Paradigms approach of Python"
   ]
  },
  {
   "cell_type": "markdown",
   "metadata": {},
   "source": [
    "Paradigm means the principle according to which a program is organized to carry out a given task.\n",
    "\n",
    "Python supports all three programming paradigm-\n",
    "1. Structured Programming\n",
    "2. Functional Programming\n",
    "3. Object Oriented Programming\n",
    "\n",
    "In OOP paradigm, we encourages for creation and interaction of objects."
   ]
  },
  {
   "cell_type": "markdown",
   "metadata": {},
   "source": [
    "## Class and Objects:"
   ]
  },
  {
   "cell_type": "markdown",
   "metadata": {},
   "source": [
    "A Class contains data and methods that can access or manipulate this data. Thus, a class let us to bundle data and functions together.\n",
    "\n",
    "A Class is generic in nature, whereas an object is specific in nature.\n",
    "\n",
    "A class is a blueprint of Object, whereas object is the physical existance of class.\n",
    "\n",
    "We can create as many objects from the given class.\n",
    "\n",
    "Examples: \n",
    "\n",
    "Bird is class, and sparrow, crow, eagle are the objects of Bird class\n",
    "\n",
    "Player is a class, and sachin, rahul, kapil are the objects of Player class\n",
    "\n",
    "Flower is a class, and Rose, Lily, Gerbera are the Objects of Flower class.\n",
    "\n",
    "Instrument is a class, and Sitar, Flute are the objects of Instrument class."
   ]
  },
  {
   "cell_type": "code",
   "execution_count": null,
   "metadata": {},
   "outputs": [],
   "source": [
    "# Programming Examples of classes and objects\n",
    "\n",
    "i = 10        # i is an object of int class\n",
    "a = 3.14      # a is an object of float class\n",
    "s = 'Mahesh'  # s is an object of str class\n",
    "lst = [1,2,3] # lst is an object of list class\n",
    "tpl = (1,2)   # tpl is an object of tuple class\n",
    "\n",
    "# here, int, float, str, list, tuple are ready-made classes."
   ]
  },
  {
   "cell_type": "code",
   "execution_count": null,
   "metadata": {},
   "outputs": [],
   "source": [
    "# An Objects typically contains data and methods that let us access or manipulate the data.\n",
    "# different objects of a particular type may contain different data, but same methods.\n",
    "\n",
    "s1 = 'Nashik'\n",
    "s2 = 'Mumbai'\n",
    "\n",
    "# here, s1 and s2 are string objects containing different data, \n",
    "# but same methods like upper(), lower(), capitalize(), etc"
   ]
  },
  {
   "cell_type": "code",
   "execution_count": null,
   "metadata": {},
   "outputs": [],
   "source": [
    "# To get the methods of objects, use dir()\n",
    "\n",
    "print(dir(s1))"
   ]
  },
  {
   "cell_type": "code",
   "execution_count": null,
   "metadata": {},
   "outputs": [],
   "source": [
    "# The Specific data in an object is often called \"Instance data\" of object or attribute of object.\n",
    "# Methods in an object are called instance methods."
   ]
  },
  {
   "cell_type": "code",
   "execution_count": null,
   "metadata": {},
   "outputs": [],
   "source": [
    "# If we create our own class, these are often called user-defined class/data types.\n",
    "\n",
    "# if we create the object of user defined class, each object is called a specific instance of class. \n",
    "# Creation of object is often called instantiation."
   ]
  },
  {
   "cell_type": "markdown",
   "metadata": {},
   "source": [
    "## Public and Private Members"
   ]
  },
  {
   "cell_type": "code",
   "execution_count": null,
   "metadata": {},
   "outputs": [],
   "source": [
    "# Members of a class (data and methods) are accessible from outside the class.\n",
    "\n",
    "# It is good idea to keep data in a class inaccessible from outside the class \n",
    "# and access it through the member functions of the class.\n",
    "\n",
    "# Private members by convention start with underscore, asa in _name, _age, _salary"
   ]
  },
  {
   "cell_type": "markdown",
   "metadata": {},
   "source": [
    "## Class Declaration and Object Creation"
   ]
  },
  {
   "cell_type": "code",
   "execution_count": null,
   "metadata": {},
   "outputs": [],
   "source": [
    "class Employee:\n",
    "    def set_data(self,n,a,s):\n",
    "        self._name = n\n",
    "        self._age = a\n",
    "        self._salary = s\n",
    "    def display(self):\n",
    "        print(self._name,self._age,self._salary)\n",
    "\n",
    "        \n",
    "e1 = Employee()      # Creates a nameless object and stores its address in e1\n",
    "e1.set_data('Ramesh',30,25000)    # Methods of class can be called using object.method_name()\n",
    "e1.display()\n",
    "\n",
    "e2 = Employee()     # Creates a nameless object and stores its address in e2\n",
    "e2.set_data('Mahesh',28,20000)\n",
    "e2.display()\n",
    "\n",
    "e3 = Employee()    # Creates a nameless object and stores its address in e3\n",
    "e3.set_data('Chandan',26,30000)\n",
    "e3.display()"
   ]
  },
  {
   "cell_type": "code",
   "execution_count": null,
   "metadata": {},
   "outputs": [],
   "source": [
    "# IMP: Whenever we call a method using an object, address of the object gets passes to the method implicitly.\n",
    "#      This address is collected by the method in a variable called self.\n",
    "\n",
    "#      self is like a this pointer in CPP or this reference in Java, which is pointing to object itself.\n",
    "\n",
    "#     When we call e1.set_data('Ramesh',30,25000) function, then along with the function parameters,\n",
    "#     first parameter is pass as a address of object(addess of e1) as self. \n",
    "\n",
    "#   Here, each object has seperate instance data, whereas, methods are shared amongst objects."
   ]
  },
  {
   "cell_type": "markdown",
   "metadata": {},
   "source": [
    "## Constructor and Destructor"
   ]
  },
  {
   "cell_type": "code",
   "execution_count": null,
   "metadata": {},
   "outputs": [],
   "source": [
    "# Constructor is the special function used for object initialization. \n",
    "\n",
    "# In Python, constructor for class can be write using the function __init__()\n"
   ]
  },
  {
   "cell_type": "code",
   "execution_count": null,
   "metadata": {},
   "outputs": [],
   "source": [
    "class Employee:\n",
    "    def __init__(self,n='',a=0,s=0.0):\n",
    "        self._name = n\n",
    "        self._age = a\n",
    "        self._salary = s\n",
    "    def set_data(self,n,a,s):\n",
    "        self._name = n\n",
    "        self._age = a\n",
    "        self._salary = s\n",
    "    def display(self):\n",
    "        print(self._name,self._age,self._salary)\n",
    "    def __del__(self):\n",
    "        print(\"Object deleted \", str(self)+self._name)\n",
    "\n",
    "        \n",
    "e1 = Employee()      # Calls the __init__() using the default values\n",
    "e1.display()\n",
    "\n",
    "e2 = Employee('Mahesh',28,20000)     # calls the __init__() using the given values\n",
    "e2.display()\n",
    "\n",
    "e3 = Employee()    # Calls the __init__() using the default values\n",
    "e3.set_data('Chandan',26,30000)    # set_data() used to initialize the object.\n",
    "e3.display()"
   ]
  },
  {
   "cell_type": "code",
   "execution_count": null,
   "metadata": {},
   "outputs": [],
   "source": [
    "# To initialize the object at the time of object creation, we generally used constructor. \n",
    "# If constructor is not available, then we can initiaze the object using the setter function(set_data)\n",
    "# __init__() function is a special memeber function, which is always called when an object is created.\n",
    "# When an object is created, space/memory is allocated and __init__() is called. So address of object is passed to __init__()\n",
    "# __init__() doesn't return any value.\n",
    "# __init__() is called only once during entire lifetime of an object.\n",
    "# If we donot define __init__(), then python provides a default __init__() method.\n",
    "# We can write __init__() as well as set_data()\n",
    "#    wherem __init__() can be used to initialize the object and set_data() is used to modify the object.\n",
    "\n",
    "# __init__() function parameter can take default values. If the user has not provide that values, \n",
    "#     then default values is used to initialize the object.\n",
    "\n",
    "# Destructor\n",
    "# In Python destructor is used for cleanup activity.\n",
    "# destructor method can be define in class using the function __del__()\n",
    "# __del__() method gets called automatically when an object goes out of scope. \n",
    "# so any cleanup acitivity should be done in __del__()\n",
    "# destructor is not taking any arguments other than self.\n"
   ]
  },
  {
   "cell_type": "markdown",
   "metadata": {},
   "source": [
    "## Class variable and methods"
   ]
  },
  {
   "cell_type": "markdown",
   "metadata": {},
   "source": [
    "If we wish to share a variable amongst all objects of a class, we must declare the variable as a class variable or class attribute.\n",
    "\n",
    "To declare a class variable, we have ti create a variable without prepending it with self.\n",
    "\n",
    "Class variable do not become part of obejcts of a class.\n",
    "\n",
    "Class variables are accessed using the syntax classname.varname\n",
    "\n",
    "Class Methods do not receive a first arguments as self\n",
    "\n",
    "Class methods can accessed using the syntax classname.methodname()\n",
    "\n",
    "Class variable can be used to count how many objects have been created from a class.\n",
    "\n",
    "Class Variables and methods are like static memebers in C++/Java\n"
   ]
  },
  {
   "cell_type": "code",
   "execution_count": 35,
   "metadata": {},
   "outputs": [
    {
     "name": "stdout",
     "output_type": "stream",
     "text": [
      " 0 0.0\n",
      "Mahesh 28 20000\n",
      "Chandan 26 30000\n",
      "Total Object Created =  4\n"
     ]
    }
   ],
   "source": [
    "class Employee:\n",
    "    count = 0  # Class Variable\n",
    "    def __init__(self,n='',a=0,s=0.0): \n",
    "        self._name = n\n",
    "        self._age = a\n",
    "        self._salary = s\n",
    "        Employee.count = Employee.count+1\n",
    "    def set_data(self,n,a,s):\n",
    "        self._name = n\n",
    "        self._age = a\n",
    "        self._salary = s\n",
    "    def display(self):\n",
    "        print(self._name,self._age,self._salary)\n",
    "        \n",
    "e1 = Employee()      # Creates a nameless object and stores its address in e1\n",
    "e1.display()\n",
    "\n",
    "e2 = Employee('Mahesh',28,20000)     # Creates a nameless object and stores its address in e2\n",
    "e2.display()\n",
    "\n",
    "e3 = Employee()    # Creates a nameless object and stores its address in e3\n",
    "e3.set_data('Chandan',26,30000)\n",
    "e3.display()\n",
    "\n",
    "e4 = Employee()\n",
    "print(\"Total Object Created = \",Employee.count)"
   ]
  },
  {
   "cell_type": "code",
   "execution_count": null,
   "metadata": {},
   "outputs": [],
   "source": [
    "# Ex- Write a program to create a class called Fruit with attributs size and color. \n",
    "# Create multiple objects of this class. Report how many objects have been crated from the class."
   ]
  },
  {
   "cell_type": "code",
   "execution_count": 36,
   "metadata": {},
   "outputs": [
    {
     "name": "stdout",
     "output_type": "stream",
     "text": [
      "3\n"
     ]
    }
   ],
   "source": [
    "class Fruit:\n",
    "    count = 0  # Class Variable\n",
    "    \n",
    "    def __init__(self, name='',size=0,color=''):   # Object Method\n",
    "        self._name = name\n",
    "        self._size = size\n",
    "        self._color = color\n",
    "        Fruit.count +=1\n",
    "    def display_count():  # Class Method\n",
    "        print(Fruit.count)\n",
    "\n",
    "f1 = Fruit('Banana',5,'yellow')\n",
    "f2 = Fruit('Orange',4,'orange')\n",
    "f3 = Fruit('Apple',3,'red')\n",
    "\n",
    "Fruit.display_count()"
   ]
  },
  {
   "cell_type": "code",
   "execution_count": null,
   "metadata": {},
   "outputs": [],
   "source": [
    "# Here, count is a class attribute, not an object attribute. So it is shared amongst all Fruit Objects.\n",
    "# It can be initialized as count=0, but must be accessed using Fruit.count"
   ]
  },
  {
   "cell_type": "code",
   "execution_count": null,
   "metadata": {},
   "outputs": [],
   "source": []
  },
  {
   "cell_type": "code",
   "execution_count": null,
   "metadata": {},
   "outputs": [],
   "source": []
  },
  {
   "cell_type": "code",
   "execution_count": null,
   "metadata": {},
   "outputs": [],
   "source": []
  }
 ],
 "metadata": {
  "kernelspec": {
   "display_name": "Python 3",
   "language": "python",
   "name": "python3"
  },
  "language_info": {
   "codemirror_mode": {
    "name": "ipython",
    "version": 3
   },
   "file_extension": ".py",
   "mimetype": "text/x-python",
   "name": "python",
   "nbconvert_exporter": "python",
   "pygments_lexer": "ipython3",
   "version": "3.8.5"
  }
 },
 "nbformat": 4,
 "nbformat_minor": 4
}
